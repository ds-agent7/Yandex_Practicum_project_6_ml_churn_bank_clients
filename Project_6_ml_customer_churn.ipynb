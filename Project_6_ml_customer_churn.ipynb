{
 "cells": [
  {
   "cell_type": "markdown",
   "metadata": {},
   "source": [
    "## Project.6 Отток клиентов\n",
    "\n",
    "    (yandex_practicum by student@pavel_matushevskiy, Volgograd 2022)"
   ]
  },
  {
   "cell_type": "markdown",
   "metadata": {},
   "source": [
    "### Описание проекта\n",
    "\n",
    "Из «Бета-Банка» стали уходить клиенты. Каждый месяц. Немного, но заметно. Банковские маркетологи посчитали: сохранять текущих клиентов дешевле, чем привлекать новых.\n",
    "\n",
    "Нужно спрогнозировать, уйдёт клиент из банка в ближайшее время или нет. Вам предоставлены исторические данные о поведении клиентов и расторжении договоров с банком. \n",
    "\n",
    "Постройте модель с предельно большим значением F1-меры. Чтобы сдать проект успешно, нужно довести метрику до 0.59. Проверьте F1-меру на тестовой выборке самостоятельно.\n",
    "\n",
    "Дополнительно измеряйте AUC-ROC, сравнивайте её значение с F1-мерой.\n"
   ]
  },
  {
   "cell_type": "markdown",
   "metadata": {},
   "source": [
    "### Описание данных\n",
    "\n",
    "#### Признаки\n",
    "RowNumber — индекс строки в данных  \n",
    "\n",
    "CustomerId — уникальный идентификатор клиента  \n",
    "\n",
    "Surname — фамилия  \n",
    "\n",
    "CreditScore — кредитный рейтинг  \n",
    "\n",
    "Geography — страна проживания  \n",
    "\n",
    "Gender — пол  \n",
    "\n",
    "Age — возраст  \n",
    "\n",
    "Tenure — сколько лет человек является клиентом банка  \n",
    "\n",
    "Balance — баланс на счёте  \n",
    "\n",
    "NumOfProducts — количество продуктов банка, используемых клиентом  \n",
    "\n",
    "HasCrCard — наличие кредитной карты  \n",
    "\n",
    "IsActiveMember — активность клиента  \n",
    "\n",
    "EstimatedSalary — предполагаемая зарплата  \n",
    "\n",
    "#### Целевой признак\n",
    "Exited — факт ухода клиента\n"
   ]
  },
  {
   "cell_type": "markdown",
   "metadata": {},
   "source": [
    "### Инструкция по выполнению проекта\n",
    "Загрузите и подготовьте данные. Поясните порядок действий.  \n",
    "\n",
    "Исследуйте баланс классов, обучите модель без учёта дисбаланса. Кратко опишите выводы.  \n",
    "\n",
    "Улучшите качество модели, учитывая дисбаланс классов. Обучите разные модели и найдите лучшую. Кратко опишите выводы.  \n",
    "\n",
    "Проведите финальное тестирование."
   ]
  },
  {
   "cell_type": "markdown",
   "metadata": {},
   "source": [
    "### Шаг 1. Подготовка данных"
   ]
  },
  {
   "cell_type": "code",
   "execution_count": 3,
   "metadata": {
    "ExecuteTime": {
     "end_time": "2022-10-18T14:33:30.939750Z",
     "start_time": "2022-10-18T14:33:30.924546Z"
    }
   },
   "outputs": [],
   "source": [
    "import pandas as pd\n",
    "import numpy as np\n",
    "import seaborn as sns\n",
    "import matplotlib.pyplot as plt\n",
    "from sklearn.utils import shuffle\n",
    "from sklearn.metrics import f1_score\n",
    "from sklearn.metrics import roc_curve\n",
    "from sklearn.metrics import accuracy_score\n",
    "from sklearn.metrics import confusion_matrix\n",
    "from sklearn.metrics import recall_score\n",
    "from sklearn.metrics import precision_score\n",
    "from sklearn.metrics import roc_auc_score\n",
    "from sklearn.preprocessing import StandardScaler\n",
    "from sklearn.preprocessing import MinMaxScaler\n",
    "from sklearn.preprocessing import Normalizer\n",
    "from sklearn.preprocessing import MaxAbsScaler\n",
    "from sklearn.model_selection import train_test_split\n",
    "from sklearn.tree import DecisionTreeClassifier\n",
    "from sklearn.linear_model import LogisticRegression\n",
    "from sklearn.ensemble import RandomForestClassifier\n",
    "from sklearn.metrics import classification_report\n",
    "from catboost import CatBoostClassifier\n",
    "\n",
    "RANDOM_STATE = 42\n",
    "#class_weight = 'balanced'\n",
    "#class_weight = {0: 1, 1: 1.2},\n",
    "PATH = 'datasets/Churn.csv'"
   ]
  },
  {
   "cell_type": "code",
   "execution_count": 4,
   "metadata": {
    "ExecuteTime": {
     "end_time": "2022-10-18T14:33:33.429660Z",
     "start_time": "2022-10-18T14:33:33.393083Z"
    }
   },
   "outputs": [
    {
     "name": "stdout",
     "output_type": "stream",
     "text": [
      "<class 'pandas.core.frame.DataFrame'>\n",
      "RangeIndex: 10000 entries, 0 to 9999\n",
      "Data columns (total 14 columns):\n",
      " #   Column           Non-Null Count  Dtype  \n",
      "---  ------           --------------  -----  \n",
      " 0   RowNumber        10000 non-null  int64  \n",
      " 1   CustomerId       10000 non-null  int64  \n",
      " 2   Surname          10000 non-null  object \n",
      " 3   CreditScore      10000 non-null  int64  \n",
      " 4   Geography        10000 non-null  object \n",
      " 5   Gender           10000 non-null  object \n",
      " 6   Age              10000 non-null  int64  \n",
      " 7   Tenure           9091 non-null   float64\n",
      " 8   Balance          10000 non-null  float64\n",
      " 9   NumOfProducts    10000 non-null  int64  \n",
      " 10  HasCrCard        10000 non-null  int64  \n",
      " 11  IsActiveMember   10000 non-null  int64  \n",
      " 12  EstimatedSalary  10000 non-null  float64\n",
      " 13  Exited           10000 non-null  int64  \n",
      "dtypes: float64(3), int64(8), object(3)\n",
      "memory usage: 1.1+ MB\n"
     ]
    }
   ],
   "source": [
    "# считаем данные файла:\n",
    "df = pd.read_csv(PATH)\n",
    "df.info()"
   ]
  },
  {
   "cell_type": "code",
   "execution_count": 5,
   "metadata": {
    "ExecuteTime": {
     "end_time": "2022-10-18T14:33:34.051742Z",
     "start_time": "2022-10-18T14:33:34.025543Z"
    }
   },
   "outputs": [
    {
     "data": {
      "text/html": [
       "<div>\n",
       "<style scoped>\n",
       "    .dataframe tbody tr th:only-of-type {\n",
       "        vertical-align: middle;\n",
       "    }\n",
       "\n",
       "    .dataframe tbody tr th {\n",
       "        vertical-align: top;\n",
       "    }\n",
       "\n",
       "    .dataframe thead th {\n",
       "        text-align: right;\n",
       "    }\n",
       "</style>\n",
       "<table border=\"1\" class=\"dataframe\">\n",
       "  <thead>\n",
       "    <tr style=\"text-align: right;\">\n",
       "      <th></th>\n",
       "      <th>RowNumber</th>\n",
       "      <th>CustomerId</th>\n",
       "      <th>Surname</th>\n",
       "      <th>CreditScore</th>\n",
       "      <th>Geography</th>\n",
       "      <th>Gender</th>\n",
       "      <th>Age</th>\n",
       "      <th>Tenure</th>\n",
       "      <th>Balance</th>\n",
       "      <th>NumOfProducts</th>\n",
       "      <th>HasCrCard</th>\n",
       "      <th>IsActiveMember</th>\n",
       "      <th>EstimatedSalary</th>\n",
       "      <th>Exited</th>\n",
       "    </tr>\n",
       "  </thead>\n",
       "  <tbody>\n",
       "    <tr>\n",
       "      <th>0</th>\n",
       "      <td>1</td>\n",
       "      <td>15634602</td>\n",
       "      <td>Hargrave</td>\n",
       "      <td>619</td>\n",
       "      <td>France</td>\n",
       "      <td>Female</td>\n",
       "      <td>42</td>\n",
       "      <td>2.0</td>\n",
       "      <td>0.00</td>\n",
       "      <td>1</td>\n",
       "      <td>1</td>\n",
       "      <td>1</td>\n",
       "      <td>101348.88</td>\n",
       "      <td>1</td>\n",
       "    </tr>\n",
       "    <tr>\n",
       "      <th>1</th>\n",
       "      <td>2</td>\n",
       "      <td>15647311</td>\n",
       "      <td>Hill</td>\n",
       "      <td>608</td>\n",
       "      <td>Spain</td>\n",
       "      <td>Female</td>\n",
       "      <td>41</td>\n",
       "      <td>1.0</td>\n",
       "      <td>83807.86</td>\n",
       "      <td>1</td>\n",
       "      <td>0</td>\n",
       "      <td>1</td>\n",
       "      <td>112542.58</td>\n",
       "      <td>0</td>\n",
       "    </tr>\n",
       "    <tr>\n",
       "      <th>2</th>\n",
       "      <td>3</td>\n",
       "      <td>15619304</td>\n",
       "      <td>Onio</td>\n",
       "      <td>502</td>\n",
       "      <td>France</td>\n",
       "      <td>Female</td>\n",
       "      <td>42</td>\n",
       "      <td>8.0</td>\n",
       "      <td>159660.80</td>\n",
       "      <td>3</td>\n",
       "      <td>1</td>\n",
       "      <td>0</td>\n",
       "      <td>113931.57</td>\n",
       "      <td>1</td>\n",
       "    </tr>\n",
       "    <tr>\n",
       "      <th>3</th>\n",
       "      <td>4</td>\n",
       "      <td>15701354</td>\n",
       "      <td>Boni</td>\n",
       "      <td>699</td>\n",
       "      <td>France</td>\n",
       "      <td>Female</td>\n",
       "      <td>39</td>\n",
       "      <td>1.0</td>\n",
       "      <td>0.00</td>\n",
       "      <td>2</td>\n",
       "      <td>0</td>\n",
       "      <td>0</td>\n",
       "      <td>93826.63</td>\n",
       "      <td>0</td>\n",
       "    </tr>\n",
       "    <tr>\n",
       "      <th>4</th>\n",
       "      <td>5</td>\n",
       "      <td>15737888</td>\n",
       "      <td>Mitchell</td>\n",
       "      <td>850</td>\n",
       "      <td>Spain</td>\n",
       "      <td>Female</td>\n",
       "      <td>43</td>\n",
       "      <td>2.0</td>\n",
       "      <td>125510.82</td>\n",
       "      <td>1</td>\n",
       "      <td>1</td>\n",
       "      <td>1</td>\n",
       "      <td>79084.10</td>\n",
       "      <td>0</td>\n",
       "    </tr>\n",
       "  </tbody>\n",
       "</table>\n",
       "</div>"
      ],
      "text/plain": [
       "   RowNumber  CustomerId   Surname  CreditScore Geography  Gender  Age  \\\n",
       "0          1    15634602  Hargrave          619    France  Female   42   \n",
       "1          2    15647311      Hill          608     Spain  Female   41   \n",
       "2          3    15619304      Onio          502    France  Female   42   \n",
       "3          4    15701354      Boni          699    France  Female   39   \n",
       "4          5    15737888  Mitchell          850     Spain  Female   43   \n",
       "\n",
       "   Tenure    Balance  NumOfProducts  HasCrCard  IsActiveMember  \\\n",
       "0     2.0       0.00              1          1               1   \n",
       "1     1.0   83807.86              1          0               1   \n",
       "2     8.0  159660.80              3          1               0   \n",
       "3     1.0       0.00              2          0               0   \n",
       "4     2.0  125510.82              1          1               1   \n",
       "\n",
       "   EstimatedSalary  Exited  \n",
       "0        101348.88       1  \n",
       "1        112542.58       0  \n",
       "2        113931.57       1  \n",
       "3         93826.63       0  \n",
       "4         79084.10       0  "
      ]
     },
     "execution_count": 5,
     "metadata": {},
     "output_type": "execute_result"
    }
   ],
   "source": [
    "# Посмотрим на данные:\n",
    "df.head()"
   ]
  },
  {
   "cell_type": "markdown",
   "metadata": {},
   "source": [
    "#### Промежуточные данные:\n",
    "\n",
    "    - Пустые значения есть у признака Tenure (скорее всего означает ее отсутствие)\n",
    "    - Также признак Tenure стоит привести к целочисленному типу\n",
    "    - Столбцы RowNumber, Surname и CustomerId  - неинформативны и не понадобятся, поэтому  просто удалим их.\n",
    "    - Категориальные признаки Gender и Geography нужно будет преобразовать к числовым значениям"
   ]
  },
  {
   "cell_type": "code",
   "execution_count": 6,
   "metadata": {
    "ExecuteTime": {
     "end_time": "2022-10-18T14:33:34.925510Z",
     "start_time": "2022-10-18T14:33:34.914966Z"
    }
   },
   "outputs": [],
   "source": [
    "# Удалим ненужные признаки\n",
    "df.drop(['RowNumber', 'CustomerId', 'Surname'], axis='columns', inplace=True)"
   ]
  },
  {
   "cell_type": "code",
   "execution_count": 7,
   "metadata": {
    "ExecuteTime": {
     "end_time": "2022-10-18T14:33:35.125540Z",
     "start_time": "2022-10-18T14:33:35.115693Z"
    }
   },
   "outputs": [
    {
     "data": {
      "text/plain": [
       "Index(['CreditScore', 'Geography', 'Gender', 'Age', 'Tenure', 'Balance',\n",
       "       'NumOfProducts', 'HasCrCard', 'IsActiveMember', 'EstimatedSalary',\n",
       "       'Exited'],\n",
       "      dtype='object')"
      ]
     },
     "execution_count": 7,
     "metadata": {},
     "output_type": "execute_result"
    }
   ],
   "source": [
    "df.columns"
   ]
  },
  {
   "cell_type": "code",
   "execution_count": 8,
   "metadata": {
    "ExecuteTime": {
     "end_time": "2022-10-18T14:33:35.321492Z",
     "start_time": "2022-10-18T14:33:35.313212Z"
    }
   },
   "outputs": [],
   "source": [
    "# приведем названия признаков к единому регистру:\n",
    "df.columns = df.columns.str.lower()"
   ]
  },
  {
   "cell_type": "code",
   "execution_count": 9,
   "metadata": {
    "ExecuteTime": {
     "end_time": "2022-10-18T14:33:35.544021Z",
     "start_time": "2022-10-18T14:33:35.533479Z"
    }
   },
   "outputs": [
    {
     "data": {
      "text/plain": [
       "[0.0, 1.0, 2.0, 3.0, 4.0, 5.0, 6.0, 7.0, 8.0, 9.0, 10.0, nan]"
      ]
     },
     "execution_count": 9,
     "metadata": {},
     "output_type": "execute_result"
    }
   ],
   "source": [
    "# взглянем на значения признака tenure:\n",
    "sorted(df['tenure'].unique())"
   ]
  },
  {
   "cell_type": "code",
   "execution_count": 10,
   "metadata": {
    "ExecuteTime": {
     "end_time": "2022-10-18T14:33:35.742518Z",
     "start_time": "2022-10-18T14:33:35.733095Z"
    }
   },
   "outputs": [
    {
     "data": {
      "text/plain": [
       "909"
      ]
     },
     "execution_count": 10,
     "metadata": {},
     "output_type": "execute_result"
    }
   ],
   "source": [
    "# Оценим пропуски: менее 10%\n",
    "df['tenure'].isna().sum()"
   ]
  },
  {
   "cell_type": "code",
   "execution_count": 11,
   "metadata": {
    "ExecuteTime": {
     "end_time": "2022-10-18T14:33:35.966583Z",
     "start_time": "2022-10-18T14:33:35.948187Z"
    }
   },
   "outputs": [
    {
     "data": {
      "text/plain": [
       "0"
      ]
     },
     "execution_count": 11,
     "metadata": {},
     "output_type": "execute_result"
    }
   ],
   "source": [
    "# как вариант #1 - можно просто удалить (лучший вариант!)\n",
    "df.dropna(subset=['tenure'], inplace=True)\n",
    "df['tenure'] = df['tenure'].astype('int')\n",
    "df['tenure'].isna().sum()"
   ]
  },
  {
   "cell_type": "markdown",
   "metadata": {},
   "source": [
    "<div class='alert alert-warning'>⚠️ \n",
    "    Применения аргумента inplace лучше избегать, так как разработчики в новых версиях Pandas прекратят его поддержку. Параметр считается бесполезным с точки зрения производительности (под капотом все равно создает копию, которая сразу присваивается объекту) и удобства, так как не поддерживает цепочки операций (подробнее можешь прочитать здесь https://www.dataschool.io/future-of-pandas/#inplace)\n",
    "</div>"
   ]
  },
  {
   "cell_type": "code",
   "execution_count": 12,
   "metadata": {
    "ExecuteTime": {
     "end_time": "2022-10-18T14:33:36.373474Z",
     "start_time": "2022-10-18T14:33:36.364356Z"
    }
   },
   "outputs": [],
   "source": [
    "# вариант №2: Заполним пропущенные значения Tenure  =0 не (в итоге - хуже метрики F1)\n",
    "df['tenure'].fillna(0, inplace=True)  #  \n",
    "#надо будет перепроверить!\n",
    "df['tenure'] = df['tenure'].astype('int')"
   ]
  },
  {
   "cell_type": "markdown",
   "metadata": {},
   "source": [
    "#### Обработка категориальных признаков"
   ]
  },
  {
   "cell_type": "code",
   "execution_count": 13,
   "metadata": {
    "ExecuteTime": {
     "end_time": "2022-10-18T14:33:36.815020Z",
     "start_time": "2022-10-18T14:33:36.800450Z"
    }
   },
   "outputs": [
    {
     "data": {
      "text/plain": [
       "Male      4974\n",
       "Female    4117\n",
       "Name: gender, dtype: int64"
      ]
     },
     "execution_count": 13,
     "metadata": {},
     "output_type": "execute_result"
    }
   ],
   "source": [
    "# Проверим признак Gender на варианты полов: кстати, \n",
    "# тут также присутствует легкий дисбаланс классов\n",
    "df['gender'].value_counts()"
   ]
  },
  {
   "cell_type": "code",
   "execution_count": 14,
   "metadata": {
    "ExecuteTime": {
     "end_time": "2022-10-18T14:33:37.017116Z",
     "start_time": "2022-10-18T14:33:36.999373Z"
    }
   },
   "outputs": [
    {
     "data": {
      "text/plain": [
       "France     4550\n",
       "Germany    2293\n",
       "Spain      2248\n",
       "Name: geography, dtype: int64"
      ]
     },
     "execution_count": 14,
     "metadata": {},
     "output_type": "execute_result"
    }
   ],
   "source": [
    "# Посмотрим сколько у нас стран и какие:\n",
    "df['geography'].value_counts()"
   ]
  },
  {
   "cell_type": "code",
   "execution_count": 15,
   "metadata": {
    "ExecuteTime": {
     "end_time": "2022-10-18T14:33:37.259300Z",
     "start_time": "2022-10-18T14:33:37.231922Z"
    }
   },
   "outputs": [
    {
     "data": {
      "text/html": [
       "<div>\n",
       "<style scoped>\n",
       "    .dataframe tbody tr th:only-of-type {\n",
       "        vertical-align: middle;\n",
       "    }\n",
       "\n",
       "    .dataframe tbody tr th {\n",
       "        vertical-align: top;\n",
       "    }\n",
       "\n",
       "    .dataframe thead th {\n",
       "        text-align: right;\n",
       "    }\n",
       "</style>\n",
       "<table border=\"1\" class=\"dataframe\">\n",
       "  <thead>\n",
       "    <tr style=\"text-align: right;\">\n",
       "      <th></th>\n",
       "      <th>creditscore</th>\n",
       "      <th>age</th>\n",
       "      <th>tenure</th>\n",
       "      <th>balance</th>\n",
       "      <th>numofproducts</th>\n",
       "      <th>hascrcard</th>\n",
       "      <th>isactivemember</th>\n",
       "      <th>estimatedsalary</th>\n",
       "      <th>exited</th>\n",
       "      <th>geography_Germany</th>\n",
       "      <th>geography_Spain</th>\n",
       "      <th>gender_Male</th>\n",
       "    </tr>\n",
       "  </thead>\n",
       "  <tbody>\n",
       "    <tr>\n",
       "      <th>0</th>\n",
       "      <td>619</td>\n",
       "      <td>42</td>\n",
       "      <td>2</td>\n",
       "      <td>0.00</td>\n",
       "      <td>1</td>\n",
       "      <td>1</td>\n",
       "      <td>1</td>\n",
       "      <td>101348.88</td>\n",
       "      <td>1</td>\n",
       "      <td>0</td>\n",
       "      <td>0</td>\n",
       "      <td>0</td>\n",
       "    </tr>\n",
       "    <tr>\n",
       "      <th>1</th>\n",
       "      <td>608</td>\n",
       "      <td>41</td>\n",
       "      <td>1</td>\n",
       "      <td>83807.86</td>\n",
       "      <td>1</td>\n",
       "      <td>0</td>\n",
       "      <td>1</td>\n",
       "      <td>112542.58</td>\n",
       "      <td>0</td>\n",
       "      <td>0</td>\n",
       "      <td>1</td>\n",
       "      <td>0</td>\n",
       "    </tr>\n",
       "    <tr>\n",
       "      <th>2</th>\n",
       "      <td>502</td>\n",
       "      <td>42</td>\n",
       "      <td>8</td>\n",
       "      <td>159660.80</td>\n",
       "      <td>3</td>\n",
       "      <td>1</td>\n",
       "      <td>0</td>\n",
       "      <td>113931.57</td>\n",
       "      <td>1</td>\n",
       "      <td>0</td>\n",
       "      <td>0</td>\n",
       "      <td>0</td>\n",
       "    </tr>\n",
       "    <tr>\n",
       "      <th>3</th>\n",
       "      <td>699</td>\n",
       "      <td>39</td>\n",
       "      <td>1</td>\n",
       "      <td>0.00</td>\n",
       "      <td>2</td>\n",
       "      <td>0</td>\n",
       "      <td>0</td>\n",
       "      <td>93826.63</td>\n",
       "      <td>0</td>\n",
       "      <td>0</td>\n",
       "      <td>0</td>\n",
       "      <td>0</td>\n",
       "    </tr>\n",
       "    <tr>\n",
       "      <th>4</th>\n",
       "      <td>850</td>\n",
       "      <td>43</td>\n",
       "      <td>2</td>\n",
       "      <td>125510.82</td>\n",
       "      <td>1</td>\n",
       "      <td>1</td>\n",
       "      <td>1</td>\n",
       "      <td>79084.10</td>\n",
       "      <td>0</td>\n",
       "      <td>0</td>\n",
       "      <td>1</td>\n",
       "      <td>0</td>\n",
       "    </tr>\n",
       "    <tr>\n",
       "      <th>...</th>\n",
       "      <td>...</td>\n",
       "      <td>...</td>\n",
       "      <td>...</td>\n",
       "      <td>...</td>\n",
       "      <td>...</td>\n",
       "      <td>...</td>\n",
       "      <td>...</td>\n",
       "      <td>...</td>\n",
       "      <td>...</td>\n",
       "      <td>...</td>\n",
       "      <td>...</td>\n",
       "      <td>...</td>\n",
       "    </tr>\n",
       "    <tr>\n",
       "      <th>9994</th>\n",
       "      <td>800</td>\n",
       "      <td>29</td>\n",
       "      <td>2</td>\n",
       "      <td>0.00</td>\n",
       "      <td>2</td>\n",
       "      <td>0</td>\n",
       "      <td>0</td>\n",
       "      <td>167773.55</td>\n",
       "      <td>0</td>\n",
       "      <td>0</td>\n",
       "      <td>0</td>\n",
       "      <td>0</td>\n",
       "    </tr>\n",
       "    <tr>\n",
       "      <th>9995</th>\n",
       "      <td>771</td>\n",
       "      <td>39</td>\n",
       "      <td>5</td>\n",
       "      <td>0.00</td>\n",
       "      <td>2</td>\n",
       "      <td>1</td>\n",
       "      <td>0</td>\n",
       "      <td>96270.64</td>\n",
       "      <td>0</td>\n",
       "      <td>0</td>\n",
       "      <td>0</td>\n",
       "      <td>1</td>\n",
       "    </tr>\n",
       "    <tr>\n",
       "      <th>9996</th>\n",
       "      <td>516</td>\n",
       "      <td>35</td>\n",
       "      <td>10</td>\n",
       "      <td>57369.61</td>\n",
       "      <td>1</td>\n",
       "      <td>1</td>\n",
       "      <td>1</td>\n",
       "      <td>101699.77</td>\n",
       "      <td>0</td>\n",
       "      <td>0</td>\n",
       "      <td>0</td>\n",
       "      <td>1</td>\n",
       "    </tr>\n",
       "    <tr>\n",
       "      <th>9997</th>\n",
       "      <td>709</td>\n",
       "      <td>36</td>\n",
       "      <td>7</td>\n",
       "      <td>0.00</td>\n",
       "      <td>1</td>\n",
       "      <td>0</td>\n",
       "      <td>1</td>\n",
       "      <td>42085.58</td>\n",
       "      <td>1</td>\n",
       "      <td>0</td>\n",
       "      <td>0</td>\n",
       "      <td>0</td>\n",
       "    </tr>\n",
       "    <tr>\n",
       "      <th>9998</th>\n",
       "      <td>772</td>\n",
       "      <td>42</td>\n",
       "      <td>3</td>\n",
       "      <td>75075.31</td>\n",
       "      <td>2</td>\n",
       "      <td>1</td>\n",
       "      <td>0</td>\n",
       "      <td>92888.52</td>\n",
       "      <td>1</td>\n",
       "      <td>1</td>\n",
       "      <td>0</td>\n",
       "      <td>1</td>\n",
       "    </tr>\n",
       "  </tbody>\n",
       "</table>\n",
       "<p>9091 rows × 12 columns</p>\n",
       "</div>"
      ],
      "text/plain": [
       "      creditscore  age  tenure    balance  numofproducts  hascrcard  \\\n",
       "0             619   42       2       0.00              1          1   \n",
       "1             608   41       1   83807.86              1          0   \n",
       "2             502   42       8  159660.80              3          1   \n",
       "3             699   39       1       0.00              2          0   \n",
       "4             850   43       2  125510.82              1          1   \n",
       "...           ...  ...     ...        ...            ...        ...   \n",
       "9994          800   29       2       0.00              2          0   \n",
       "9995          771   39       5       0.00              2          1   \n",
       "9996          516   35      10   57369.61              1          1   \n",
       "9997          709   36       7       0.00              1          0   \n",
       "9998          772   42       3   75075.31              2          1   \n",
       "\n",
       "      isactivemember  estimatedsalary  exited  geography_Germany  \\\n",
       "0                  1        101348.88       1                  0   \n",
       "1                  1        112542.58       0                  0   \n",
       "2                  0        113931.57       1                  0   \n",
       "3                  0         93826.63       0                  0   \n",
       "4                  1         79084.10       0                  0   \n",
       "...              ...              ...     ...                ...   \n",
       "9994               0        167773.55       0                  0   \n",
       "9995               0         96270.64       0                  0   \n",
       "9996               1        101699.77       0                  0   \n",
       "9997               1         42085.58       1                  0   \n",
       "9998               0         92888.52       1                  1   \n",
       "\n",
       "      geography_Spain  gender_Male  \n",
       "0                   0            0  \n",
       "1                   1            0  \n",
       "2                   0            0  \n",
       "3                   0            0  \n",
       "4                   1            0  \n",
       "...               ...          ...  \n",
       "9994                0            0  \n",
       "9995                0            1  \n",
       "9996                0            1  \n",
       "9997                0            0  \n",
       "9998                0            1  \n",
       "\n",
       "[9091 rows x 12 columns]"
      ]
     },
     "execution_count": 15,
     "metadata": {},
     "output_type": "execute_result"
    }
   ],
   "source": [
    "# Для категориальных признаков 'geography' и 'gender' сделаем декодирование по алгоритму OHE\n",
    "df_new = pd.get_dummies(df, drop_first=True)\n",
    "df_new"
   ]
  },
  {
   "cell_type": "code",
   "execution_count": 16,
   "metadata": {
    "ExecuteTime": {
     "end_time": "2022-10-18T14:33:37.466252Z",
     "start_time": "2022-10-18T14:33:37.447332Z"
    }
   },
   "outputs": [
    {
     "data": {
      "text/plain": [
       "0"
      ]
     },
     "execution_count": 16,
     "metadata": {},
     "output_type": "execute_result"
    }
   ],
   "source": [
    "# проверим датасет на дубликаты:\n",
    "df_new.duplicated().sum()"
   ]
  },
  {
   "cell_type": "code",
   "execution_count": 17,
   "metadata": {
    "ExecuteTime": {
     "end_time": "2022-10-18T14:33:37.676445Z",
     "start_time": "2022-10-18T14:33:37.665460Z"
    }
   },
   "outputs": [],
   "source": [
    "# Выделим фитчи для обучения и таргет\n",
    "features = df_new.drop('exited', axis=1)\n",
    "target = df_new['exited']"
   ]
  },
  {
   "cell_type": "code",
   "execution_count": 18,
   "metadata": {
    "ExecuteTime": {
     "end_time": "2022-10-18T14:33:37.931884Z",
     "start_time": "2022-10-18T14:33:37.918064Z"
    }
   },
   "outputs": [
    {
     "data": {
      "text/plain": [
       "0    0.796062\n",
       "1    0.203938\n",
       "Name: exited, dtype: float64"
      ]
     },
     "execution_count": 18,
     "metadata": {},
     "output_type": "execute_result"
    }
   ],
   "source": [
    "# оценим баланс классов таргета:\n",
    "# сильный дисбаланс классов на лицо: учтем это в дальнейшем.\n",
    "target.value_counts(normalize=True)"
   ]
  },
  {
   "cell_type": "code",
   "execution_count": 19,
   "metadata": {
    "ExecuteTime": {
     "end_time": "2022-10-18T14:33:38.263927Z",
     "start_time": "2022-10-18T14:33:38.200644Z"
    }
   },
   "outputs": [],
   "source": [
    "df_new.to_csv(\"df_new.csv\")"
   ]
  },
  {
   "cell_type": "markdown",
   "metadata": {},
   "source": [
    "#### Промежуточный вывод  \n",
    "\n",
    "Мы ознакомились с данными, к ним особых претензий нет, пропуски обработали, дубликатов нет, данные готовы к дальнейшей работе для обучения модели.  \n",
    "При этом отметим, что таргет - сильно дисбалансирован (это надо будет учесть при построении модели, если мы хотим хороший результат)."
   ]
  },
  {
   "cell_type": "markdown",
   "metadata": {
    "ExecuteTime": {
     "end_time": "2022-05-12T13:04:00.962420Z",
     "start_time": "2022-05-12T13:04:00.960330Z"
    }
   },
   "source": [
    "### 2. Построение моделей, исследование результатов. "
   ]
  },
  {
   "cell_type": "markdown",
   "metadata": {},
   "source": [
    "#### Разделение данных на выборки: train, validate, test"
   ]
  },
  {
   "cell_type": "code",
   "execution_count": 20,
   "metadata": {
    "ExecuteTime": {
     "end_time": "2022-10-18T14:33:39.750282Z",
     "start_time": "2022-10-18T14:33:39.738089Z"
    }
   },
   "outputs": [],
   "source": [
    "# Разобьем данные на 3 части в соотношении 80%-10%-10% \n",
    "train, validate, test = \\\n",
    "              np.split(df_new.sample(frac=1, random_state=RANDOM_STATE),\n",
    "                       [int(.8*len(df)), int(.9*len(df))])"
   ]
  },
  {
   "cell_type": "code",
   "execution_count": 21,
   "metadata": {
    "ExecuteTime": {
     "end_time": "2022-10-18T14:33:40.024777Z",
     "start_time": "2022-10-18T14:33:40.017778Z"
    }
   },
   "outputs": [
    {
     "name": "stdout",
     "output_type": "stream",
     "text": [
      "(7272, 12) (909, 12) (910, 12)\n"
     ]
    }
   ],
   "source": [
    "#Проверим баланс разбивки в итоге:\n",
    "print(train.shape,validate.shape,test.shape)"
   ]
  },
  {
   "cell_type": "code",
   "execution_count": 22,
   "metadata": {
    "ExecuteTime": {
     "end_time": "2022-10-18T14:33:40.246129Z",
     "start_time": "2022-10-18T14:33:40.231704Z"
    }
   },
   "outputs": [],
   "source": [
    "# for train:\n",
    "train_features = train.drop(['exited'], axis=1)\n",
    "train_target = train['exited']\n",
    "# for validate:\n",
    "validate_features = validate.drop(['exited'], axis=1)\n",
    "validate_target = validate['exited']\n",
    "# for test:\n",
    "test_features = test.drop(['exited'], axis=1)\n",
    "test_target = test['exited']"
   ]
  },
  {
   "cell_type": "code",
   "execution_count": 23,
   "metadata": {
    "ExecuteTime": {
     "end_time": "2022-10-18T14:33:40.489194Z",
     "start_time": "2022-10-18T14:33:40.482607Z"
    }
   },
   "outputs": [],
   "source": [
    "# print(classification_report(valid_target, valid_predicted_tree, target_names = labels)) "
   ]
  },
  {
   "cell_type": "markdown",
   "metadata": {},
   "source": [
    "### Масштабирование признаков"
   ]
  },
  {
   "cell_type": "code",
   "execution_count": 24,
   "metadata": {
    "ExecuteTime": {
     "end_time": "2022-10-18T14:33:40.957454Z",
     "start_time": "2022-10-18T14:33:40.946780Z"
    }
   },
   "outputs": [
    {
     "data": {
      "text/plain": [
       "Index(['creditscore', 'age', 'tenure', 'balance', 'numofproducts', 'hascrcard',\n",
       "       'isactivemember', 'estimatedsalary', 'geography_Germany',\n",
       "       'geography_Spain', 'gender_Male'],\n",
       "      dtype='object')"
      ]
     },
     "execution_count": 24,
     "metadata": {},
     "output_type": "execute_result"
    }
   ],
   "source": [
    "train_features.columns"
   ]
  },
  {
   "cell_type": "code",
   "execution_count": 25,
   "metadata": {
    "ExecuteTime": {
     "end_time": "2022-10-18T14:33:41.189804Z",
     "start_time": "2022-10-18T14:33:41.181663Z"
    }
   },
   "outputs": [],
   "source": [
    "# будем пробовать разные варианты стандартизации в поисках лучшего:\n",
    "scaler = MinMaxScaler()\n",
    "scaler = Normalizer()\n",
    "scaler = MaxAbsScaler ()\n",
    "scaler = StandardScaler() # самый лучший  вариант (по метрике F1)"
   ]
  },
  {
   "cell_type": "code",
   "execution_count": 26,
   "metadata": {
    "ExecuteTime": {
     "end_time": "2022-10-18T14:33:41.450041Z",
     "start_time": "2022-10-18T14:33:41.414160Z"
    }
   },
   "outputs": [
    {
     "data": {
      "text/html": [
       "<div>\n",
       "<style scoped>\n",
       "    .dataframe tbody tr th:only-of-type {\n",
       "        vertical-align: middle;\n",
       "    }\n",
       "\n",
       "    .dataframe tbody tr th {\n",
       "        vertical-align: top;\n",
       "    }\n",
       "\n",
       "    .dataframe thead th {\n",
       "        text-align: right;\n",
       "    }\n",
       "</style>\n",
       "<table border=\"1\" class=\"dataframe\">\n",
       "  <thead>\n",
       "    <tr style=\"text-align: right;\">\n",
       "      <th></th>\n",
       "      <th>creditscore</th>\n",
       "      <th>age</th>\n",
       "      <th>tenure</th>\n",
       "      <th>balance</th>\n",
       "      <th>numofproducts</th>\n",
       "      <th>hascrcard</th>\n",
       "      <th>isactivemember</th>\n",
       "      <th>estimatedsalary</th>\n",
       "      <th>geography_Germany</th>\n",
       "      <th>geography_Spain</th>\n",
       "      <th>gender_Male</th>\n",
       "    </tr>\n",
       "  </thead>\n",
       "  <tbody>\n",
       "    <tr>\n",
       "      <th>3639</th>\n",
       "      <td>0.294974</td>\n",
       "      <td>0.855191</td>\n",
       "      <td>1.042601</td>\n",
       "      <td>0.616832</td>\n",
       "      <td>-0.914778</td>\n",
       "      <td>1</td>\n",
       "      <td>0</td>\n",
       "      <td>0.677712</td>\n",
       "      <td>1</td>\n",
       "      <td>0</td>\n",
       "      <td>0</td>\n",
       "    </tr>\n",
       "    <tr>\n",
       "      <th>2835</th>\n",
       "      <td>0.014585</td>\n",
       "      <td>-0.375516</td>\n",
       "      <td>0.350737</td>\n",
       "      <td>0.641783</td>\n",
       "      <td>0.807715</td>\n",
       "      <td>1</td>\n",
       "      <td>1</td>\n",
       "      <td>-1.322093</td>\n",
       "      <td>0</td>\n",
       "      <td>1</td>\n",
       "      <td>1</td>\n",
       "    </tr>\n",
       "    <tr>\n",
       "      <th>3378</th>\n",
       "      <td>-1.273130</td>\n",
       "      <td>3.127266</td>\n",
       "      <td>0.004805</td>\n",
       "      <td>0.279879</td>\n",
       "      <td>-0.914778</td>\n",
       "      <td>1</td>\n",
       "      <td>1</td>\n",
       "      <td>-0.374318</td>\n",
       "      <td>1</td>\n",
       "      <td>0</td>\n",
       "      <td>1</td>\n",
       "    </tr>\n",
       "    <tr>\n",
       "      <th>1477</th>\n",
       "      <td>1.291914</td>\n",
       "      <td>-0.186176</td>\n",
       "      <td>-1.032992</td>\n",
       "      <td>-1.239135</td>\n",
       "      <td>-0.914778</td>\n",
       "      <td>0</td>\n",
       "      <td>1</td>\n",
       "      <td>-1.595186</td>\n",
       "      <td>0</td>\n",
       "      <td>0</td>\n",
       "      <td>1</td>\n",
       "    </tr>\n",
       "    <tr>\n",
       "      <th>4919</th>\n",
       "      <td>0.315744</td>\n",
       "      <td>1.044531</td>\n",
       "      <td>1.734465</td>\n",
       "      <td>0.825195</td>\n",
       "      <td>-0.914778</td>\n",
       "      <td>1</td>\n",
       "      <td>1</td>\n",
       "      <td>0.033000</td>\n",
       "      <td>0</td>\n",
       "      <td>1</td>\n",
       "      <td>0</td>\n",
       "    </tr>\n",
       "    <tr>\n",
       "      <th>...</th>\n",
       "      <td>...</td>\n",
       "      <td>...</td>\n",
       "      <td>...</td>\n",
       "      <td>...</td>\n",
       "      <td>...</td>\n",
       "      <td>...</td>\n",
       "      <td>...</td>\n",
       "      <td>...</td>\n",
       "      <td>...</td>\n",
       "      <td>...</td>\n",
       "      <td>...</td>\n",
       "    </tr>\n",
       "    <tr>\n",
       "      <th>711</th>\n",
       "      <td>-0.182726</td>\n",
       "      <td>-0.375516</td>\n",
       "      <td>0.350737</td>\n",
       "      <td>0.635432</td>\n",
       "      <td>-0.914778</td>\n",
       "      <td>1</td>\n",
       "      <td>0</td>\n",
       "      <td>0.511883</td>\n",
       "      <td>1</td>\n",
       "      <td>0</td>\n",
       "      <td>1</td>\n",
       "    </tr>\n",
       "    <tr>\n",
       "      <th>6698</th>\n",
       "      <td>0.762290</td>\n",
       "      <td>-0.754195</td>\n",
       "      <td>0.350737</td>\n",
       "      <td>-1.239135</td>\n",
       "      <td>-0.914778</td>\n",
       "      <td>0</td>\n",
       "      <td>0</td>\n",
       "      <td>-0.674549</td>\n",
       "      <td>0</td>\n",
       "      <td>0</td>\n",
       "      <td>0</td>\n",
       "    </tr>\n",
       "    <tr>\n",
       "      <th>348</th>\n",
       "      <td>0.024969</td>\n",
       "      <td>-0.659525</td>\n",
       "      <td>-1.378924</td>\n",
       "      <td>0.607085</td>\n",
       "      <td>-0.914778</td>\n",
       "      <td>1</td>\n",
       "      <td>1</td>\n",
       "      <td>0.445824</td>\n",
       "      <td>1</td>\n",
       "      <td>0</td>\n",
       "      <td>0</td>\n",
       "    </tr>\n",
       "    <tr>\n",
       "      <th>9275</th>\n",
       "      <td>-2.332379</td>\n",
       "      <td>0.287173</td>\n",
       "      <td>-1.378924</td>\n",
       "      <td>-0.018947</td>\n",
       "      <td>-0.914778</td>\n",
       "      <td>1</td>\n",
       "      <td>1</td>\n",
       "      <td>-0.747639</td>\n",
       "      <td>1</td>\n",
       "      <td>0</td>\n",
       "      <td>1</td>\n",
       "    </tr>\n",
       "    <tr>\n",
       "      <th>9681</th>\n",
       "      <td>-0.006185</td>\n",
       "      <td>2.275238</td>\n",
       "      <td>1.042601</td>\n",
       "      <td>0.856307</td>\n",
       "      <td>-0.914778</td>\n",
       "      <td>1</td>\n",
       "      <td>1</td>\n",
       "      <td>-1.530097</td>\n",
       "      <td>0</td>\n",
       "      <td>1</td>\n",
       "      <td>0</td>\n",
       "    </tr>\n",
       "  </tbody>\n",
       "</table>\n",
       "<p>7272 rows × 11 columns</p>\n",
       "</div>"
      ],
      "text/plain": [
       "      creditscore       age    tenure   balance  numofproducts  hascrcard  \\\n",
       "3639     0.294974  0.855191  1.042601  0.616832      -0.914778          1   \n",
       "2835     0.014585 -0.375516  0.350737  0.641783       0.807715          1   \n",
       "3378    -1.273130  3.127266  0.004805  0.279879      -0.914778          1   \n",
       "1477     1.291914 -0.186176 -1.032992 -1.239135      -0.914778          0   \n",
       "4919     0.315744  1.044531  1.734465  0.825195      -0.914778          1   \n",
       "...           ...       ...       ...       ...            ...        ...   \n",
       "711     -0.182726 -0.375516  0.350737  0.635432      -0.914778          1   \n",
       "6698     0.762290 -0.754195  0.350737 -1.239135      -0.914778          0   \n",
       "348      0.024969 -0.659525 -1.378924  0.607085      -0.914778          1   \n",
       "9275    -2.332379  0.287173 -1.378924 -0.018947      -0.914778          1   \n",
       "9681    -0.006185  2.275238  1.042601  0.856307      -0.914778          1   \n",
       "\n",
       "      isactivemember  estimatedsalary  geography_Germany  geography_Spain  \\\n",
       "3639               0         0.677712                  1                0   \n",
       "2835               1        -1.322093                  0                1   \n",
       "3378               1        -0.374318                  1                0   \n",
       "1477               1        -1.595186                  0                0   \n",
       "4919               1         0.033000                  0                1   \n",
       "...              ...              ...                ...              ...   \n",
       "711                0         0.511883                  1                0   \n",
       "6698               0        -0.674549                  0                0   \n",
       "348                1         0.445824                  1                0   \n",
       "9275               1        -0.747639                  1                0   \n",
       "9681               1        -1.530097                  0                1   \n",
       "\n",
       "      gender_Male  \n",
       "3639            0  \n",
       "2835            1  \n",
       "3378            1  \n",
       "1477            1  \n",
       "4919            0  \n",
       "...           ...  \n",
       "711             1  \n",
       "6698            0  \n",
       "348             0  \n",
       "9275            1  \n",
       "9681            0  \n",
       "\n",
       "[7272 rows x 11 columns]"
      ]
     },
     "execution_count": 26,
     "metadata": {},
     "output_type": "execute_result"
    }
   ],
   "source": [
    "# Масштабируем только числовые признаки:\n",
    "numeric = ['creditscore', 'age', 'tenure',\n",
    "           'balance', 'numofproducts', 'estimatedsalary']\n",
    "\n",
    "scaler.fit(train_features[numeric])\n",
    "\n",
    "pd.set_option('mode.chained_assignment', None)\n",
    "train_features[numeric] = scaler.transform(train_features[numeric])\n",
    "validate_features[numeric] = scaler.transform(validate_features[numeric])\n",
    "test_features[numeric] = scaler.transform(test_features[numeric])\n",
    "\n",
    "# посмотрим на тренировочной выборке что получилось\n",
    "train_features"
   ]
  },
  {
   "cell_type": "markdown",
   "metadata": {},
   "source": [
    "<div class='alert alert-warning'>⚠️Приглушенное предупреждение вылетает из-за проблемы возможной модификации первоисточника данных после изменения срезов. Чтобы побороть, явно задавай копии данных при сплите (https://zen.yandex.ru/media/id/5ee6f73b7cadb75a66e4c7e3/otkuda-voznikaet-samoe-rasprostranennoe-preduprejdenie-pandas-i-kak-ego-oboiti-62727adcaa0a703436f08b72)\n",
    "\n",
    "</div>"
   ]
  },
  {
   "cell_type": "markdown",
   "metadata": {},
   "source": [
    "### Промежуточный вывод\n",
    "\n",
    "- Мы изучили данные, заполнили пропуски, привели типы к соответствующим значениям\n",
    "- Удалили признаки, которые нам вряд ли бы чем-то помогли\n",
    "- Посредством One-Hot Encoding преобразовали категориальные признаки в числовые\n",
    " - Привели числовые признаки к одному масштабу\n",
    "\n",
    " По итогу, мы подготовили данные для дальнейшего исследования"
   ]
  },
  {
   "cell_type": "markdown",
   "metadata": {},
   "source": [
    "### 2. Исследование задачи"
   ]
  },
  {
   "cell_type": "code",
   "execution_count": 27,
   "metadata": {
    "ExecuteTime": {
     "end_time": "2022-10-18T14:33:42.504766Z",
     "start_time": "2022-10-18T14:33:42.412322Z"
    }
   },
   "outputs": [
    {
     "data": {
      "image/png": "[encoded data removed]",
      "text/plain": [
       "<Figure size 432x288 with 1 Axes>"
      ]
     },
     "metadata": {
      "needs_background": "light"
     },
     "output_type": "display_data"
    }
   ],
   "source": [
    "# Посмотрим на распределение значений целевого признака: налицо сильный дисбаланс классов!\n",
    "sns.countplot(x=target)\n",
    "plt.show()"
   ]
  },
  {
   "cell_type": "markdown",
   "metadata": {},
   "source": [
    "Очевидно, что имеем существенный перекос в данных в пользу тех, кто еще не прекратил отношения с банком. Для нашей модели это может быть проблемой, но пока попробуем поработать с тем, что есть."
   ]
  },
  {
   "cell_type": "code",
   "execution_count": 28,
   "metadata": {
    "ExecuteTime": {
     "end_time": "2022-10-18T14:33:43.013955Z",
     "start_time": "2022-10-18T14:33:42.998822Z"
    }
   },
   "outputs": [],
   "source": [
    "# Для облегчения расчета и вывода метрик при обучении моделей, напишем функцию:\n",
    "\n",
    "\n",
    "def print_full_scrore_info_title():\n",
    "    \"\"\"\n",
    "    функция расчитывает и выводит основные метрики модели на база предсказанных данных\n",
    "    \"\"\"\n",
    "    print('|{: >9}|{: >9}|{: >9}|{: >9}|{: >9}|{: >7}|{: >7}|{: >7}|{: >7}|'.\n",
    "          format('Accuracy', 'Recall', 'Precision', 'F1', 'ROC-AUC', 'TP',\n",
    "                 'TN', 'FP', 'FN'))\n",
    "\n",
    "\n",
    "def print_full_score_info(target, predicted, predicted_proba):\n",
    "    accuracy = accuracy_score(target, predicted)\n",
    "    recall = recall_score(target, predicted)\n",
    "    precision = precision_score(target, predicted)\n",
    "    f1 = f1_score(target, predicted)\n",
    "    #roc_auc = roc_auc_score(target, predicted)\n",
    "    roc_auc = roc_auc_score(target, predicted_proba[:, 1])\n",
    "\n",
    "    confusion_m = confusion_matrix(target, predicted)\n",
    "    TN = confusion_m[0][0]\n",
    "    TP = confusion_m[1][1]\n",
    "    FN = confusion_m[0][1]\n",
    "    FP = confusion_m[1][0]\n",
    "\n",
    "    print(\n",
    "        '|{: >9.7f}|{: >9.7f}|{: >9.7f}|{: >9.7f}|{: >9.7f}|{: >7}|{: >7}|{: >7}|{: >7}|'\n",
    "        .format(accuracy, recall, precision, f1, roc_auc, TP, FP, TN, FN))\n",
    "    print()\n",
    "    print(classification_report(target, predicted))\n",
    "    print()"
   ]
  },
  {
   "cell_type": "markdown",
   "metadata": {},
   "source": [
    "### Построение модели с дисбалансом классов  таргета (без обработки)"
   ]
  },
  {
   "cell_type": "code",
   "execution_count": 29,
   "metadata": {
    "ExecuteTime": {
     "end_time": "2022-10-18T14:33:44.196919Z",
     "start_time": "2022-10-18T14:33:44.186233Z"
    }
   },
   "outputs": [
    {
     "data": {
      "text/plain": [
       "0    718\n",
       "1    191\n",
       "Name: exited, dtype: int64"
      ]
     },
     "execution_count": 29,
     "metadata": {},
     "output_type": "execute_result"
    }
   ],
   "source": [
    "validate_target.value_counts()"
   ]
  },
  {
   "cell_type": "code",
   "execution_count": 30,
   "metadata": {
    "ExecuteTime": {
     "end_time": "2022-10-18T14:33:44.450474Z",
     "start_time": "2022-10-18T14:33:44.431021Z"
    }
   },
   "outputs": [],
   "source": [
    "# Начнем с модели дерева решений:\n",
    "\n",
    "# создадим массив, где будут наши лучшие результаты:\n",
    "best_results = {}\n",
    "best_results['decision_tree'] = {}\n",
    "\n",
    "\n",
    "def check_decision_tree(train_features, train_target, class_weight,\n",
    "                        train_type):\n",
    "    \"\"\"\n",
    "    функцию по выводу информации по модели Decision tree\n",
    "    \"\"\"\n",
    "    print('Decision tree')\n",
    "    print('|{: >9}'.format('max_depth'), end='')\n",
    "    print_full_scrore_info_title()\n",
    "\n",
    "    # будем сразу считать лучшую меру и параметры, чтобы не искать глазами\n",
    "    best_f1 = 0\n",
    "    best_max_depth = 0\n",
    "    for max_depth in range(2, 15, 1):\n",
    "        model = DecisionTreeClassifier(max_depth=max_depth,\n",
    "                                       random_state=RANDOM_STATE,\n",
    "                                       class_weight=class_weight)\n",
    "        model.fit(train_features, train_target)\n",
    "        predicted_val = model.predict(validate_features)\n",
    "        predicted_proba = model.predict_proba(validate_features)\n",
    "        print('|{: >9}'.format(max_depth), end='')\n",
    "        print_full_score_info(validate_target, predicted_val, predicted_proba)\n",
    "\n",
    "        current_f1 = f1_score(validate_target, predicted_val)\n",
    "        if (current_f1 > best_f1):\n",
    "            best_f1 = current_f1\n",
    "            best_max_depth = max_depth\n",
    "\n",
    "    # воспользуемся тем, что питон будет искать наш словарь глобально\n",
    "    best_results['decision_tree'][train_type] = dict()\n",
    "    best_results['decision_tree'][train_type]['params'] = 'max_depth=' + str(\n",
    "        best_max_depth)\n",
    "    best_results['decision_tree'][train_type]['f1'] = best_f1"
   ]
  },
  {
   "cell_type": "code",
   "execution_count": 31,
   "metadata": {
    "ExecuteTime": {
     "end_time": "2022-10-18T14:33:45.481780Z",
     "start_time": "2022-10-18T14:33:45.070157Z"
    },
    "scrolled": true
   },
   "outputs": [
    {
     "name": "stdout",
     "output_type": "stream",
     "text": [
      "Decision tree\n",
      "|max_depth| Accuracy|   Recall|Precision|       F1|  ROC-AUC|     TP|     TN|     FP|     FN|\n",
      "|        2|0.8272827|0.4712042|0.6164384|0.5341246|0.7303373|     90|    101|    662|     56|\n",
      "\n",
      "              precision    recall  f1-score   support\n",
      "\n",
      "           0       0.87      0.92      0.89       718\n",
      "           1       0.62      0.47      0.53       191\n",
      "\n",
      "    accuracy                           0.83       909\n",
      "   macro avg       0.74      0.70      0.71       909\n",
      "weighted avg       0.81      0.83      0.82       909\n",
      "\n",
      "\n",
      "|        3|0.8261826|0.2565445|0.7538462|0.3828125|0.7875133|     49|    142|    702|     16|\n",
      "\n",
      "              precision    recall  f1-score   support\n",
      "\n",
      "           0       0.83      0.98      0.90       718\n",
      "           1       0.75      0.26      0.38       191\n",
      "\n",
      "    accuracy                           0.83       909\n",
      "   macro avg       0.79      0.62      0.64       909\n",
      "weighted avg       0.82      0.83      0.79       909\n",
      "\n",
      "\n",
      "|        4|0.8536854|0.4345550|0.7685185|0.5551839|0.8223140|     83|    108|    693|     25|\n",
      "\n",
      "              precision    recall  f1-score   support\n",
      "\n",
      "           0       0.87      0.97      0.91       718\n",
      "           1       0.77      0.43      0.56       191\n",
      "\n",
      "    accuracy                           0.85       909\n",
      "   macro avg       0.82      0.70      0.73       909\n",
      "weighted avg       0.84      0.85      0.84       909\n",
      "\n",
      "\n",
      "|        5|0.8448845|0.3926702|0.7500000|0.5154639|0.8376781|     75|    116|    693|     25|\n",
      "\n",
      "              precision    recall  f1-score   support\n",
      "\n",
      "           0       0.86      0.97      0.91       718\n",
      "           1       0.75      0.39      0.52       191\n",
      "\n",
      "    accuracy                           0.84       909\n",
      "   macro avg       0.80      0.68      0.71       909\n",
      "weighted avg       0.83      0.84      0.83       909\n",
      "\n",
      "\n",
      "|        6|0.8558856|0.4397906|0.7777778|0.5618729|0.8415392|     84|    107|    694|     24|\n",
      "\n",
      "              precision    recall  f1-score   support\n",
      "\n",
      "           0       0.87      0.97      0.91       718\n",
      "           1       0.78      0.44      0.56       191\n",
      "\n",
      "    accuracy                           0.86       909\n",
      "   macro avg       0.82      0.70      0.74       909\n",
      "weighted avg       0.85      0.86      0.84       909\n",
      "\n",
      "\n",
      "|        7|0.8536854|0.4659686|0.7416667|0.5723473|0.8499358|     89|    102|    687|     31|\n",
      "\n",
      "              precision    recall  f1-score   support\n",
      "\n",
      "           0       0.87      0.96      0.91       718\n",
      "           1       0.74      0.47      0.57       191\n",
      "\n",
      "    accuracy                           0.85       909\n",
      "   macro avg       0.81      0.71      0.74       909\n",
      "weighted avg       0.84      0.85      0.84       909\n",
      "\n",
      "\n",
      "|        8|0.8558856|0.4816754|0.7419355|0.5841270|0.8477264|     92|     99|    686|     32|\n",
      "\n",
      "              precision    recall  f1-score   support\n",
      "\n",
      "           0       0.87      0.96      0.91       718\n",
      "           1       0.74      0.48      0.58       191\n",
      "\n",
      "    accuracy                           0.86       909\n",
      "   macro avg       0.81      0.72      0.75       909\n",
      "weighted avg       0.85      0.86      0.84       909\n",
      "\n",
      "\n",
      "|        9|0.8536854|0.5235602|0.7042254|0.6006006|0.8352973|    100|     91|    676|     42|\n",
      "\n",
      "              precision    recall  f1-score   support\n",
      "\n",
      "           0       0.88      0.94      0.91       718\n",
      "           1       0.70      0.52      0.60       191\n",
      "\n",
      "    accuracy                           0.85       909\n",
      "   macro avg       0.79      0.73      0.76       909\n",
      "weighted avg       0.84      0.85      0.85       909\n",
      "\n",
      "\n",
      "|       10|0.8426843|0.5130890|0.6621622|0.5781711|0.7978970|     98|     93|    668|     50|\n",
      "\n",
      "              precision    recall  f1-score   support\n",
      "\n",
      "           0       0.88      0.93      0.90       718\n",
      "           1       0.66      0.51      0.58       191\n",
      "\n",
      "    accuracy                           0.84       909\n",
      "   macro avg       0.77      0.72      0.74       909\n",
      "weighted avg       0.83      0.84      0.83       909\n",
      "\n",
      "\n",
      "|       11|0.8283828|0.5549738|0.5988701|0.5760870|0.7697283|    106|     85|    647|     71|\n",
      "\n",
      "              precision    recall  f1-score   support\n",
      "\n",
      "           0       0.88      0.90      0.89       718\n",
      "           1       0.60      0.55      0.58       191\n",
      "\n",
      "    accuracy                           0.83       909\n",
      "   macro avg       0.74      0.73      0.73       909\n",
      "weighted avg       0.82      0.83      0.83       909\n",
      "\n",
      "\n",
      "|       12|0.8206821|0.5392670|0.5786517|0.5582656|0.7623853|    103|     88|    643|     75|\n",
      "\n",
      "              precision    recall  f1-score   support\n",
      "\n",
      "           0       0.88      0.90      0.89       718\n",
      "           1       0.58      0.54      0.56       191\n",
      "\n",
      "    accuracy                           0.82       909\n",
      "   macro avg       0.73      0.72      0.72       909\n",
      "weighted avg       0.82      0.82      0.82       909\n",
      "\n",
      "\n",
      "|       13|0.8118812|0.5287958|0.5549451|0.5415550|0.7334145|    101|     90|    637|     81|\n",
      "\n",
      "              precision    recall  f1-score   support\n",
      "\n",
      "           0       0.88      0.89      0.88       718\n",
      "           1       0.55      0.53      0.54       191\n",
      "\n",
      "    accuracy                           0.81       909\n",
      "   macro avg       0.72      0.71      0.71       909\n",
      "weighted avg       0.81      0.81      0.81       909\n",
      "\n",
      "\n",
      "|       14|0.8107811|0.5602094|0.5487179|0.5544041|0.7342859|    107|     84|    630|     88|\n",
      "\n",
      "              precision    recall  f1-score   support\n",
      "\n",
      "           0       0.88      0.88      0.88       718\n",
      "           1       0.55      0.56      0.55       191\n",
      "\n",
      "    accuracy                           0.81       909\n",
      "   macro avg       0.72      0.72      0.72       909\n",
      "weighted avg       0.81      0.81      0.81       909\n",
      "\n",
      "\n"
     ]
    }
   ],
   "source": [
    "# исследуем модель дерево решений:\n",
    "check_decision_tree(train_features, train_target, None, 'default')"
   ]
  },
  {
   "cell_type": "code",
   "execution_count": 32,
   "metadata": {
    "ExecuteTime": {
     "end_time": "2022-10-18T14:33:45.486304Z",
     "start_time": "2022-10-18T14:33:45.483409Z"
    }
   },
   "outputs": [
    {
     "data": {
      "text/plain": [
       "{'default': {'params': 'max_depth=9', 'f1': 0.6006006006006006}}"
      ]
     },
     "execution_count": 32,
     "metadata": {},
     "output_type": "execute_result"
    }
   ],
   "source": [
    "  # выведем инфо модели с лучшими настройками гиперпараметров по метрике F1:\n",
    "best_results['decision_tree']"
   ]
  },
  {
   "cell_type": "markdown",
   "metadata": {},
   "source": [
    "Нам важна точноть выявления значений \"1\" класса, поэтому будем смотреть на Recall, F1 и ROC-AUC:  \n",
    "\n",
    "- хоть мы и добились f1 =0.60, однако полнота выявления \"1\"  у нас чуть больше 52,3%, а это не очень хорошо."
   ]
  },
  {
   "cell_type": "code",
   "execution_count": 33,
   "metadata": {
    "ExecuteTime": {
     "end_time": "2022-10-18T14:33:54.833576Z",
     "start_time": "2022-10-18T14:33:46.355473Z"
    },
    "scrolled": true
   },
   "outputs": [
    {
     "name": "stdout",
     "output_type": "stream",
     "text": [
      "random_forest\n",
      "|n_estimators|max_depth|| Accuracy|   Recall|Precision|       F1|  ROC-AUC|     TP|     TN|     FP|     FN|\n",
      "\n",
      "|           5|        6||0.8503850|0.3769634|0.8089888|0.5142857|0.8343493|     72|    119|    701|     17|\n",
      "\n",
      "              precision    recall  f1-score   support\n",
      "\n",
      "           0       0.85      0.98      0.91       718\n",
      "           1       0.81      0.38      0.51       191\n",
      "\n",
      "    accuracy                           0.85       909\n",
      "   macro avg       0.83      0.68      0.71       909\n",
      "weighted avg       0.85      0.85      0.83       909\n",
      "\n",
      "\n",
      "|           5|        7||0.8492849|0.3979058|0.7755102|0.5259516|0.8346592|     76|    115|    696|     22|\n",
      "\n",
      "              precision    recall  f1-score   support\n",
      "\n",
      "           0       0.86      0.97      0.91       718\n",
      "           1       0.78      0.40      0.53       191\n",
      "\n",
      "    accuracy                           0.85       909\n",
      "   macro avg       0.82      0.68      0.72       909\n",
      "weighted avg       0.84      0.85      0.83       909\n",
      "\n",
      "\n",
      "|           5|        8||0.8448845|0.4083770|0.7358491|0.5252525|0.8402449|     78|    113|    690|     28|\n",
      "\n",
      "              precision    recall  f1-score   support\n",
      "\n",
      "           0       0.86      0.96      0.91       718\n",
      "           1       0.74      0.41      0.53       191\n",
      "\n",
      "    accuracy                           0.84       909\n",
      "   macro avg       0.80      0.68      0.72       909\n",
      "weighted avg       0.83      0.84      0.83       909\n",
      "\n",
      "\n",
      "|           5|        9||0.8624862|0.4607330|0.8000000|0.5847176|0.8374995|     88|    103|    696|     22|\n",
      "\n",
      "              precision    recall  f1-score   support\n",
      "\n",
      "           0       0.87      0.97      0.92       718\n",
      "           1       0.80      0.46      0.58       191\n",
      "\n",
      "    accuracy                           0.86       909\n",
      "   macro avg       0.84      0.72      0.75       909\n",
      "weighted avg       0.86      0.86      0.85       909\n",
      "\n",
      "\n",
      "|           5|       10||0.8547855|0.4816754|0.7360000|0.5822785|0.8460492|     92|     99|    685|     33|\n",
      "\n",
      "              precision    recall  f1-score   support\n",
      "\n",
      "           0       0.87      0.95      0.91       718\n",
      "           1       0.74      0.48      0.58       191\n",
      "\n",
      "    accuracy                           0.85       909\n",
      "   macro avg       0.80      0.72      0.75       909\n",
      "weighted avg       0.84      0.85      0.84       909\n",
      "\n",
      "\n",
      "|           5|       11||0.8492849|0.4397906|0.7368421|0.5508197|0.8128637|     84|    107|    688|     30|\n",
      "\n",
      "              precision    recall  f1-score   support\n",
      "\n",
      "           0       0.87      0.96      0.91       718\n",
      "           1       0.74      0.44      0.55       191\n",
      "\n",
      "    accuracy                           0.85       909\n",
      "   macro avg       0.80      0.70      0.73       909\n",
      "weighted avg       0.84      0.85      0.83       909\n",
      "\n",
      "\n",
      "\n",
      "|          10|        6||0.8492849|0.3926702|0.7812500|0.5226481|0.8438143|     75|    116|    697|     21|\n",
      "\n",
      "              precision    recall  f1-score   support\n",
      "\n",
      "           0       0.86      0.97      0.91       718\n",
      "           1       0.78      0.39      0.52       191\n",
      "\n",
      "    accuracy                           0.85       909\n",
      "   macro avg       0.82      0.68      0.72       909\n",
      "weighted avg       0.84      0.85      0.83       909\n",
      "\n",
      "\n",
      "|          10|        7||0.8547855|0.4240838|0.7864078|0.5510204|0.8481748|     81|    110|    696|     22|\n",
      "\n",
      "              precision    recall  f1-score   support\n",
      "\n",
      "           0       0.86      0.97      0.91       718\n",
      "           1       0.79      0.42      0.55       191\n",
      "\n",
      "    accuracy                           0.85       909\n",
      "   macro avg       0.82      0.70      0.73       909\n",
      "weighted avg       0.85      0.85      0.84       909\n",
      "\n",
      "\n",
      "|          10|        8||0.8492849|0.4345550|0.7410714|0.5478548|0.8516531|     83|    108|    689|     29|\n",
      "\n",
      "              precision    recall  f1-score   support\n",
      "\n",
      "           0       0.86      0.96      0.91       718\n",
      "           1       0.74      0.43      0.55       191\n",
      "\n",
      "    accuracy                           0.85       909\n",
      "   macro avg       0.80      0.70      0.73       909\n",
      "weighted avg       0.84      0.85      0.83       909\n",
      "\n",
      "\n",
      "|          10|        9||0.8624862|0.4764398|0.7844828|0.5928339|0.8483462|     91|    100|    693|     25|\n",
      "\n",
      "              precision    recall  f1-score   support\n",
      "\n",
      "           0       0.87      0.97      0.92       718\n",
      "           1       0.78      0.48      0.59       191\n",
      "\n",
      "    accuracy                           0.86       909\n",
      "   macro avg       0.83      0.72      0.76       909\n",
      "weighted avg       0.86      0.86      0.85       909\n",
      "\n",
      "\n",
      "|          10|       10||0.8624862|0.4659686|0.7946429|0.5874587|0.8453674|     89|    102|    695|     23|\n",
      "\n",
      "              precision    recall  f1-score   support\n",
      "\n",
      "           0       0.87      0.97      0.92       718\n",
      "           1       0.79      0.47      0.59       191\n",
      "\n",
      "    accuracy                           0.86       909\n",
      "   macro avg       0.83      0.72      0.75       909\n",
      "weighted avg       0.86      0.86      0.85       909\n",
      "\n",
      "\n",
      "|          10|       11||0.8580858|0.4816754|0.7540984|0.5878594|0.8310352|     92|     99|    688|     30|\n",
      "\n",
      "              precision    recall  f1-score   support\n",
      "\n",
      "           0       0.87      0.96      0.91       718\n",
      "           1       0.75      0.48      0.59       191\n",
      "\n",
      "    accuracy                           0.86       909\n",
      "   macro avg       0.81      0.72      0.75       909\n",
      "weighted avg       0.85      0.86      0.85       909\n",
      "\n",
      "\n",
      "\n",
      "|          15|        6||0.8503850|0.4031414|0.7777778|0.5310345|0.8474274|     77|    114|    696|     22|\n",
      "\n",
      "              precision    recall  f1-score   support\n",
      "\n",
      "           0       0.86      0.97      0.91       718\n",
      "           1       0.78      0.40      0.53       191\n",
      "\n",
      "    accuracy                           0.85       909\n",
      "   macro avg       0.82      0.69      0.72       909\n",
      "weighted avg       0.84      0.85      0.83       909\n",
      "\n",
      "\n",
      "|          15|        7||0.8580858|0.4293194|0.8039216|0.5597270|0.8499832|     82|    109|    698|     20|\n",
      "\n",
      "              precision    recall  f1-score   support\n",
      "\n",
      "           0       0.86      0.97      0.92       718\n",
      "           1       0.80      0.43      0.56       191\n",
      "\n",
      "    accuracy                           0.86       909\n",
      "   macro avg       0.83      0.70      0.74       909\n",
      "weighted avg       0.85      0.86      0.84       909\n",
      "\n",
      "\n",
      "|          15|        8||0.8558856|0.4450262|0.7727273|0.5647841|0.8530349|     85|    106|    693|     25|\n",
      "\n",
      "              precision    recall  f1-score   support\n",
      "\n",
      "           0       0.87      0.97      0.91       718\n",
      "           1       0.77      0.45      0.56       191\n",
      "\n",
      "    accuracy                           0.86       909\n",
      "   macro avg       0.82      0.71      0.74       909\n",
      "weighted avg       0.85      0.86      0.84       909\n",
      "\n",
      "\n",
      "|          15|        9||0.8635864|0.4607330|0.8073394|0.5866667|0.8518062|     88|    103|    697|     21|\n",
      "\n",
      "              precision    recall  f1-score   support\n",
      "\n",
      "           0       0.87      0.97      0.92       718\n",
      "           1       0.81      0.46      0.59       191\n",
      "\n",
      "    accuracy                           0.86       909\n",
      "   macro avg       0.84      0.72      0.75       909\n",
      "weighted avg       0.86      0.86      0.85       909\n",
      "\n",
      "\n",
      "|          15|       10||0.8591859|0.4712042|0.7692308|0.5844156|0.8492139|     90|    101|    691|     27|\n",
      "\n",
      "              precision    recall  f1-score   support\n",
      "\n",
      "           0       0.87      0.96      0.92       718\n",
      "           1       0.77      0.47      0.58       191\n",
      "\n",
      "    accuracy                           0.86       909\n",
      "   macro avg       0.82      0.72      0.75       909\n",
      "weighted avg       0.85      0.86      0.85       909\n",
      "\n",
      "\n",
      "|          15|       11||0.8624862|0.4816754|0.7796610|0.5954693|0.8397053|     92|     99|    692|     26|\n",
      "\n",
      "              precision    recall  f1-score   support\n",
      "\n",
      "           0       0.87      0.96      0.92       718\n",
      "           1       0.78      0.48      0.60       191\n",
      "\n",
      "    accuracy                           0.86       909\n",
      "   macro avg       0.83      0.72      0.76       909\n",
      "weighted avg       0.85      0.86      0.85       909\n",
      "\n",
      "\n",
      "\n",
      "|          20|        6||0.8536854|0.3926702|0.8152174|0.5300353|0.8516385|     75|    116|    701|     17|\n",
      "\n",
      "              precision    recall  f1-score   support\n",
      "\n",
      "           0       0.86      0.98      0.91       718\n",
      "           1       0.82      0.39      0.53       191\n",
      "\n",
      "    accuracy                           0.85       909\n",
      "   macro avg       0.84      0.68      0.72       909\n",
      "weighted avg       0.85      0.85      0.83       909\n",
      "\n",
      "\n",
      "|          20|        7||0.8580858|0.4240838|0.8100000|0.5567010|0.8572350|     81|    110|    699|     19|\n",
      "\n",
      "              precision    recall  f1-score   support\n",
      "\n",
      "           0       0.86      0.97      0.92       718\n",
      "           1       0.81      0.42      0.56       191\n",
      "\n",
      "    accuracy                           0.86       909\n",
      "   macro avg       0.84      0.70      0.74       909\n",
      "weighted avg       0.85      0.86      0.84       909\n",
      "\n",
      "\n",
      "|          20|        8||0.8547855|0.4554974|0.7565217|0.5686275|0.8552772|     87|    104|    690|     28|\n",
      "\n",
      "              precision    recall  f1-score   support\n",
      "\n",
      "           0       0.87      0.96      0.91       718\n",
      "           1       0.76      0.46      0.57       191\n",
      "\n",
      "    accuracy                           0.85       909\n",
      "   macro avg       0.81      0.71      0.74       909\n",
      "weighted avg       0.85      0.85      0.84       909\n",
      "\n",
      "\n",
      "|          20|        9||0.8613861|0.4607330|0.7927928|0.5827815|0.8489478|     88|    103|    695|     23|\n",
      "\n",
      "              precision    recall  f1-score   support\n",
      "\n",
      "           0       0.87      0.97      0.92       718\n",
      "           1       0.79      0.46      0.58       191\n",
      "\n",
      "    accuracy                           0.86       909\n",
      "   macro avg       0.83      0.71      0.75       909\n",
      "weighted avg       0.85      0.86      0.85       909\n",
      "\n",
      "\n",
      "|          20|       10||0.8624862|0.4659686|0.7946429|0.5874587|0.8497353|     89|    102|    695|     23|\n",
      "\n",
      "              precision    recall  f1-score   support\n",
      "\n",
      "           0       0.87      0.97      0.92       718\n",
      "           1       0.79      0.47      0.59       191\n",
      "\n",
      "    accuracy                           0.86       909\n",
      "   macro avg       0.83      0.72      0.75       909\n",
      "weighted avg       0.86      0.86      0.85       909\n",
      "\n",
      "\n",
      "|          20|       11||0.8591859|0.4659686|0.7739130|0.5816993|0.8392860|     89|    102|    692|     26|\n",
      "\n",
      "              precision    recall  f1-score   support\n",
      "\n",
      "           0       0.87      0.96      0.92       718\n",
      "           1       0.77      0.47      0.58       191\n",
      "\n",
      "    accuracy                           0.86       909\n",
      "   macro avg       0.82      0.71      0.75       909\n",
      "weighted avg       0.85      0.86      0.85       909\n",
      "\n",
      "\n",
      "\n",
      "|          25|        6||0.8514851|0.3769634|0.8181818|0.5161290|0.8496077|     72|    119|    702|     16|\n",
      "\n",
      "              precision    recall  f1-score   support\n",
      "\n",
      "           0       0.86      0.98      0.91       718\n",
      "           1       0.82      0.38      0.52       191\n",
      "\n",
      "    accuracy                           0.85       909\n",
      "   macro avg       0.84      0.68      0.71       909\n",
      "weighted avg       0.85      0.85      0.83       909\n",
      "\n",
      "\n",
      "|          25|        7||0.8558856|0.4188482|0.8000000|0.5498282|0.8585294|     80|    111|    698|     20|\n",
      "\n",
      "              precision    recall  f1-score   support\n",
      "\n",
      "           0       0.86      0.97      0.91       718\n",
      "           1       0.80      0.42      0.55       191\n",
      "\n",
      "    accuracy                           0.86       909\n",
      "   macro avg       0.83      0.70      0.73       909\n",
      "weighted avg       0.85      0.86      0.84       909\n",
      "\n",
      "\n",
      "|          25|        8||0.8580858|0.4450262|0.7870370|0.5685619|0.8588502|     85|    106|    695|     23|\n",
      "\n",
      "              precision    recall  f1-score   support\n",
      "\n",
      "           0       0.87      0.97      0.92       718\n",
      "           1       0.79      0.45      0.57       191\n",
      "\n",
      "    accuracy                           0.86       909\n",
      "   macro avg       0.83      0.71      0.74       909\n",
      "weighted avg       0.85      0.86      0.84       909\n",
      "\n",
      "\n",
      "|          25|        9||0.8646865|0.4607330|0.8148148|0.5886288|0.8514270|     88|    103|    698|     20|\n",
      "\n",
      "              precision    recall  f1-score   support\n",
      "\n",
      "           0       0.87      0.97      0.92       718\n",
      "           1       0.81      0.46      0.59       191\n",
      "\n",
      "    accuracy                           0.86       909\n",
      "   macro avg       0.84      0.72      0.75       909\n",
      "weighted avg       0.86      0.86      0.85       909\n",
      "\n",
      "\n",
      "|          25|       10||0.8580858|0.4607330|0.7719298|0.5770492|0.8522218|     88|    103|    692|     26|\n",
      "\n",
      "              precision    recall  f1-score   support\n",
      "\n",
      "           0       0.87      0.96      0.91       718\n",
      "           1       0.77      0.46      0.58       191\n",
      "\n",
      "    accuracy                           0.86       909\n",
      "   macro avg       0.82      0.71      0.75       909\n",
      "weighted avg       0.85      0.86      0.84       909\n",
      "\n",
      "\n",
      "|          25|       11||0.8591859|0.4554974|0.7837838|0.5761589|0.8392568|     87|    104|    694|     24|\n",
      "\n",
      "              precision    recall  f1-score   support\n",
      "\n",
      "           0       0.87      0.97      0.92       718\n",
      "           1       0.78      0.46      0.58       191\n",
      "\n",
      "    accuracy                           0.86       909\n",
      "   macro avg       0.83      0.71      0.75       909\n",
      "weighted avg       0.85      0.86      0.84       909\n",
      "\n",
      "\n",
      "\n",
      "|          30|        6||0.8514851|0.3821990|0.8111111|0.5195730|0.8511463|     73|    118|    701|     17|\n",
      "\n",
      "              precision    recall  f1-score   support\n",
      "\n",
      "           0       0.86      0.98      0.91       718\n",
      "           1       0.81      0.38      0.52       191\n",
      "\n",
      "    accuracy                           0.85       909\n",
      "   macro avg       0.83      0.68      0.72       909\n",
      "weighted avg       0.85      0.85      0.83       909\n",
      "\n",
      "\n",
      "|          30|        7||0.8558856|0.4240838|0.7941176|0.5529010|0.8604326|     81|    110|    697|     21|\n",
      "\n",
      "              precision    recall  f1-score   support\n",
      "\n",
      "           0       0.86      0.97      0.91       718\n",
      "           1       0.79      0.42      0.55       191\n",
      "\n",
      "    accuracy                           0.86       909\n",
      "   macro avg       0.83      0.70      0.73       909\n",
      "weighted avg       0.85      0.86      0.84       909\n",
      "\n",
      "\n",
      "|          30|        8||0.8580858|0.4345550|0.7980769|0.5627119|0.8605018|     83|    108|    697|     21|\n",
      "\n",
      "              precision    recall  f1-score   support\n",
      "\n",
      "           0       0.87      0.97      0.92       718\n",
      "           1       0.80      0.43      0.56       191\n",
      "\n",
      "    accuracy                           0.86       909\n",
      "   macro avg       0.83      0.70      0.74       909\n",
      "weighted avg       0.85      0.86      0.84       909\n",
      "\n",
      "\n",
      "|          30|        9||0.8635864|0.4607330|0.8073394|0.5866667|0.8526885|     88|    103|    697|     21|\n",
      "\n",
      "              precision    recall  f1-score   support\n",
      "\n",
      "           0       0.87      0.97      0.92       718\n",
      "           1       0.81      0.46      0.59       191\n",
      "\n",
      "    accuracy                           0.86       909\n",
      "   macro avg       0.84      0.72      0.75       909\n",
      "weighted avg       0.86      0.86      0.85       909\n",
      "\n",
      "\n",
      "|          30|       10||0.8591859|0.4659686|0.7739130|0.5816993|0.8542271|     89|    102|    692|     26|\n",
      "\n",
      "              precision    recall  f1-score   support\n",
      "\n",
      "           0       0.87      0.96      0.92       718\n",
      "           1       0.77      0.47      0.58       191\n",
      "\n",
      "    accuracy                           0.86       909\n",
      "   macro avg       0.82      0.71      0.75       909\n",
      "weighted avg       0.85      0.86      0.85       909\n",
      "\n",
      "\n",
      "|          30|       11||0.8613861|0.4764398|0.7777778|0.5909091|0.8408902|     91|    100|    692|     26|\n",
      "\n",
      "              precision    recall  f1-score   support\n",
      "\n",
      "           0       0.87      0.96      0.92       718\n",
      "           1       0.78      0.48      0.59       191\n",
      "\n",
      "    accuracy                           0.86       909\n",
      "   macro avg       0.83      0.72      0.75       909\n",
      "weighted avg       0.85      0.86      0.85       909\n",
      "\n",
      "\n",
      "\n",
      "|          35|        6||0.8525853|0.3821990|0.8202247|0.5214286|0.8526120|     73|    118|    702|     16|\n",
      "\n",
      "              precision    recall  f1-score   support\n",
      "\n",
      "           0       0.86      0.98      0.91       718\n",
      "           1       0.82      0.38      0.52       191\n",
      "\n",
      "    accuracy                           0.85       909\n",
      "   macro avg       0.84      0.68      0.72       909\n",
      "weighted avg       0.85      0.85      0.83       909\n",
      "\n",
      "\n",
      "|          35|        7||0.8569857|0.4293194|0.7961165|0.5578231|0.8625691|     82|    109|    697|     21|\n",
      "\n",
      "              precision    recall  f1-score   support\n",
      "\n",
      "           0       0.86      0.97      0.91       718\n",
      "           1       0.80      0.43      0.56       191\n",
      "\n",
      "    accuracy                           0.86       909\n",
      "   macro avg       0.83      0.70      0.74       909\n",
      "weighted avg       0.85      0.86      0.84       909\n",
      "\n",
      "\n",
      "|          35|        8||0.8580858|0.4397906|0.7924528|0.5656566|0.8606550|     84|    107|    696|     22|\n",
      "\n",
      "              precision    recall  f1-score   support\n",
      "\n",
      "           0       0.87      0.97      0.92       718\n",
      "           1       0.79      0.44      0.57       191\n",
      "\n",
      "    accuracy                           0.86       909\n",
      "   macro avg       0.83      0.70      0.74       909\n",
      "weighted avg       0.85      0.86      0.84       909\n",
      "\n",
      "\n",
      "|          35|        9||0.8613861|0.4554974|0.7981651|0.5800000|0.8535854|     87|    104|    696|     22|\n",
      "\n",
      "              precision    recall  f1-score   support\n",
      "\n",
      "           0       0.87      0.97      0.92       718\n",
      "           1       0.80      0.46      0.58       191\n",
      "\n",
      "    accuracy                           0.86       909\n",
      "   macro avg       0.83      0.71      0.75       909\n",
      "weighted avg       0.85      0.86      0.85       909\n",
      "\n",
      "\n",
      "|          35|       10||0.8569857|0.4659686|0.7606838|0.5779221|0.8569981|     89|    102|    690|     28|\n",
      "\n",
      "              precision    recall  f1-score   support\n",
      "\n",
      "           0       0.87      0.96      0.91       718\n",
      "           1       0.76      0.47      0.58       191\n",
      "\n",
      "    accuracy                           0.86       909\n",
      "   macro avg       0.82      0.71      0.75       909\n",
      "weighted avg       0.85      0.86      0.84       909\n",
      "\n",
      "\n",
      "|          35|       11||0.8646865|0.4764398|0.7982456|0.5967213|0.8436174|     91|    100|    695|     23|\n",
      "\n",
      "              precision    recall  f1-score   support\n",
      "\n",
      "           0       0.87      0.97      0.92       718\n",
      "           1       0.80      0.48      0.60       191\n",
      "\n",
      "    accuracy                           0.86       909\n",
      "   macro avg       0.84      0.72      0.76       909\n",
      "weighted avg       0.86      0.86      0.85       909\n",
      "\n",
      "\n",
      "\n",
      "|          40|        6||0.8558856|0.3926702|0.8333333|0.5338078|0.8526521|     75|    116|    703|     15|\n",
      "\n",
      "              precision    recall  f1-score   support\n",
      "\n",
      "           0       0.86      0.98      0.91       718\n",
      "           1       0.83      0.39      0.53       191\n",
      "\n",
      "    accuracy                           0.86       909\n",
      "   macro avg       0.85      0.69      0.72       909\n",
      "weighted avg       0.85      0.86      0.83       909\n",
      "\n",
      "\n",
      "|          40|        7||0.8591859|0.4345550|0.8058252|0.5646259|0.8616066|     83|    108|    698|     20|\n",
      "\n",
      "              precision    recall  f1-score   support\n",
      "\n",
      "           0       0.87      0.97      0.92       718\n",
      "           1       0.81      0.43      0.56       191\n",
      "\n",
      "    accuracy                           0.86       909\n",
      "   macro avg       0.84      0.70      0.74       909\n",
      "weighted avg       0.85      0.86      0.84       909\n",
      "\n",
      "\n",
      "|          40|        8||0.8569857|0.4397906|0.7850467|0.5637584|0.8605274|     84|    107|    695|     23|\n",
      "\n",
      "              precision    recall  f1-score   support\n",
      "\n",
      "           0       0.87      0.97      0.91       718\n",
      "           1       0.79      0.44      0.56       191\n",
      "\n",
      "    accuracy                           0.86       909\n",
      "   macro avg       0.83      0.70      0.74       909\n",
      "weighted avg       0.85      0.86      0.84       909\n",
      "\n",
      "\n",
      "|          40|        9||0.8613861|0.4502618|0.8037383|0.5771812|0.8538042|     86|    105|    697|     21|\n",
      "\n",
      "              precision    recall  f1-score   support\n",
      "\n",
      "           0       0.87      0.97      0.92       718\n",
      "           1       0.80      0.45      0.58       191\n",
      "\n",
      "    accuracy                           0.86       909\n",
      "   macro avg       0.84      0.71      0.75       909\n",
      "weighted avg       0.86      0.86      0.85       909\n",
      "\n",
      "\n",
      "|          40|       10||0.8569857|0.4659686|0.7606838|0.5779221|0.8560574|     89|    102|    690|     28|\n",
      "\n",
      "              precision    recall  f1-score   support\n",
      "\n",
      "           0       0.87      0.96      0.91       718\n",
      "           1       0.76      0.47      0.58       191\n",
      "\n",
      "    accuracy                           0.86       909\n",
      "   macro avg       0.82      0.71      0.75       909\n",
      "weighted avg       0.85      0.86      0.84       909\n",
      "\n",
      "\n",
      "|          40|       11||0.8657866|0.4869110|0.7948718|0.6038961|0.8454185|     93|     98|    694|     24|\n",
      "\n",
      "              precision    recall  f1-score   support\n",
      "\n",
      "           0       0.88      0.97      0.92       718\n",
      "           1       0.79      0.49      0.60       191\n",
      "\n",
      "    accuracy                           0.87       909\n",
      "   macro avg       0.84      0.73      0.76       909\n",
      "weighted avg       0.86      0.87      0.85       909\n",
      "\n",
      "\n",
      "\n",
      "|          45|        6||0.8558856|0.3926702|0.8333333|0.5338078|0.8522474|     75|    116|    703|     15|\n",
      "\n",
      "              precision    recall  f1-score   support\n",
      "\n",
      "           0       0.86      0.98      0.91       718\n",
      "           1       0.83      0.39      0.53       191\n",
      "\n",
      "    accuracy                           0.86       909\n",
      "   macro avg       0.85      0.69      0.72       909\n",
      "weighted avg       0.85      0.86      0.83       909\n",
      "\n",
      "\n",
      "|          45|        7||0.8591859|0.4345550|0.8058252|0.5646259|0.8607972|     83|    108|    698|     20|\n",
      "\n",
      "              precision    recall  f1-score   support\n",
      "\n",
      "           0       0.87      0.97      0.92       718\n",
      "           1       0.81      0.43      0.56       191\n",
      "\n",
      "    accuracy                           0.86       909\n",
      "   macro avg       0.84      0.70      0.74       909\n",
      "weighted avg       0.85      0.86      0.84       909\n",
      "\n",
      "\n",
      "|          45|        8||0.8580858|0.4345550|0.7980769|0.5627119|0.8596013|     83|    108|    697|     21|\n",
      "\n",
      "              precision    recall  f1-score   support\n",
      "\n",
      "           0       0.87      0.97      0.92       718\n",
      "           1       0.80      0.43      0.56       191\n",
      "\n",
      "    accuracy                           0.86       909\n",
      "   macro avg       0.83      0.70      0.74       909\n",
      "weighted avg       0.85      0.86      0.84       909\n",
      "\n",
      "\n",
      "|          45|        9||0.8602860|0.4502618|0.7962963|0.5752508|0.8541980|     86|    105|    696|     22|\n",
      "\n",
      "              precision    recall  f1-score   support\n",
      "\n",
      "           0       0.87      0.97      0.92       718\n",
      "           1       0.80      0.45      0.58       191\n",
      "\n",
      "    accuracy                           0.86       909\n",
      "   macro avg       0.83      0.71      0.75       909\n",
      "weighted avg       0.85      0.86      0.84       909\n",
      "\n",
      "\n",
      "|          45|       10||0.8591859|0.4659686|0.7739130|0.5816993|0.8569543|     89|    102|    692|     26|\n",
      "\n",
      "              precision    recall  f1-score   support\n",
      "\n",
      "           0       0.87      0.96      0.92       718\n",
      "           1       0.77      0.47      0.58       191\n",
      "\n",
      "    accuracy                           0.86       909\n",
      "   macro avg       0.82      0.71      0.75       909\n",
      "weighted avg       0.85      0.86      0.85       909\n",
      "\n",
      "\n",
      "|          45|       11||0.8646865|0.4816754|0.7931034|0.5993485|0.8474967|     92|     99|    694|     24|\n",
      "\n",
      "              precision    recall  f1-score   support\n",
      "\n",
      "           0       0.88      0.97      0.92       718\n",
      "           1       0.79      0.48      0.60       191\n",
      "\n",
      "    accuracy                           0.86       909\n",
      "   macro avg       0.83      0.72      0.76       909\n",
      "weighted avg       0.86      0.86      0.85       909\n",
      "\n",
      "\n",
      "\n"
     ]
    }
   ],
   "source": [
    "# исследуем модель случайный лес:\n",
    "\n",
    "best_results['random_forest'] = {}\n",
    "\n",
    "\n",
    "def check_random_forest(train_features, train_target, class_weight,\n",
    "                        train_type):\n",
    "    print('random_forest')\n",
    "    print('|{: >12}|{: >9}|'.format('n_estimators', 'max_depth'), end='')\n",
    "    print_full_scrore_info_title()\n",
    "    print()\n",
    "\n",
    "    # будем сразу считать лучшую меру и параметры, чтобы не искать глазами\n",
    "    best_f1 = 0\n",
    "    best_max_depth = 0\n",
    "    best_n_estimators = 0\n",
    "\n",
    "    for estim in range(5, 50, 5):\n",
    "        for max_depth in range(6, 12):\n",
    "            model = RandomForestClassifier(n_estimators=estim,\n",
    "                                           max_depth=max_depth,\n",
    "                                           random_state=RANDOM_STATE,\n",
    "                                           class_weight=class_weight)\n",
    "            model.fit(train_features, train_target)\n",
    "            predicted_valid = model.predict(validate_features)\n",
    "            predicted_proba = model.predict_proba(validate_features)\n",
    "            print('|{: >12}|{: >9}|'.format(estim, max_depth), end='')\n",
    "            print_full_score_info(\n",
    "                validate_target, predicted_valid, predicted_proba)\n",
    "\n",
    "            f1 = f1_score(validate_target, predicted_valid)\n",
    "            if (f1 > best_f1):\n",
    "                best_f1 = f1\n",
    "                best_max_depth = max_depth\n",
    "                best_n_estimators = estim\n",
    "\n",
    "        print()  # для разделения вывода по количеству деревьев\n",
    "\n",
    "    # воспользуемся тем, что питон будет искать наш словарь глобально\n",
    "    best_results['random_forest'][train_type] = dict()\n",
    "    best_results['random_forest'][train_type]['params'] = 'estim=' + str(\n",
    "        best_n_estimators) + '; max_depth=' + str(best_max_depth)\n",
    "    best_results['random_forest'][train_type]['f1'] = best_f1\n",
    "\n",
    "\n",
    "check_random_forest(train_features, train_target, None, 'default')"
   ]
  },
  {
   "cell_type": "code",
   "execution_count": 34,
   "metadata": {
    "ExecuteTime": {
     "end_time": "2022-10-18T14:33:54.838148Z",
     "start_time": "2022-10-18T14:33:54.835335Z"
    }
   },
   "outputs": [
    {
     "data": {
      "text/plain": [
       "{'default': {'params': 'estim=40; max_depth=11', 'f1': 0.6038961038961039}}"
      ]
     },
     "execution_count": 34,
     "metadata": {},
     "output_type": "execute_result"
    }
   ],
   "source": [
    "# лучшие настройки модели и лучший результат:\n",
    "best_results['random_forest']"
   ]
  },
  {
   "cell_type": "markdown",
   "metadata": {},
   "source": [
    "Нам важна точноть выявления значений \"1\" класса, поэтому будем смотреть на Recall, F1 и ROC-AUC:\n",
    "- хоть мы и добились f1 =0.599, однако полнота выявления \"1\"  у нас чуть больше 48%, а это не очень хорошо."
   ]
  },
  {
   "cell_type": "code",
   "execution_count": 35,
   "metadata": {
    "ExecuteTime": {
     "end_time": "2022-10-18T14:33:54.866602Z",
     "start_time": "2022-10-18T14:33:54.839555Z"
    },
    "scrolled": true
   },
   "outputs": [
    {
     "name": "stdout",
     "output_type": "stream",
     "text": [
      "Logistic regression\n",
      "| Accuracy|   Recall|Precision|       F1|  ROC-AUC|     TP|     TN|     FP|     FN|\n",
      "|0.8074807|0.2251309|0.6142857|0.3295019|0.7638146|     43|    148|    691|     27|\n",
      "\n",
      "              precision    recall  f1-score   support\n",
      "\n",
      "           0       0.82      0.96      0.89       718\n",
      "           1       0.61      0.23      0.33       191\n",
      "\n",
      "    accuracy                           0.81       909\n",
      "   macro avg       0.72      0.59      0.61       909\n",
      "weighted avg       0.78      0.81      0.77       909\n",
      "\n",
      "\n"
     ]
    }
   ],
   "source": [
    "# Посмотрим на модель регрессию:\n",
    "\n",
    "best_results['logistic_regression'] = {}\n",
    "\n",
    "\n",
    "def check_logistic_regression(train_features, train_target, class_weight,\n",
    "                              train_type):\n",
    "    print('Logistic regression')\n",
    "    print_full_scrore_info_title()\n",
    "\n",
    "    model = LogisticRegression(solver='liblinear',\n",
    "                               random_state=RANDOM_STATE,\n",
    "                               class_weight=class_weight)\n",
    "    model.fit(train_features, train_target)\n",
    "    predicted_valid = model.predict(validate_features)\n",
    "    predicted_proba = model.predict_proba(validate_features)\n",
    "    print_full_score_info(validate_target, predicted_valid, predicted_proba)\n",
    "\n",
    "    # воспользуемся тем, что питон будет искать наш словарь глобально\n",
    "    best_results['logistic_regression'][train_type] = dict()\n",
    "    best_results['logistic_regression'][train_type]['params'] = '-'\n",
    "    best_results['logistic_regression'][train_type]['f1'] = f1_score(\n",
    "        validate_target, predicted_valid)\n",
    "\n",
    "\n",
    "check_logistic_regression(train_features, train_target, None, 'default')"
   ]
  },
  {
   "cell_type": "markdown",
   "metadata": {},
   "source": [
    "Нам важна точноть выявления значений \"1\" класса, поэтому будем смотреть на Recall, F1 и ROC-AUC:  \n",
    "\n",
    "- тут низкое и  f1 =0.33, и полнота выявления \"1\"  у нас чуть больше 22,5%, а это совсем плохо (лучше уж монетку бросать)."
   ]
  },
  {
   "cell_type": "code",
   "execution_count": 36,
   "metadata": {
    "ExecuteTime": {
     "end_time": "2022-10-18T14:34:14.160063Z",
     "start_time": "2022-10-18T14:33:54.869186Z"
    }
   },
   "outputs": [
    {
     "name": "stdout",
     "output_type": "stream",
     "text": [
      "Catboost Class\n",
      "|  iterations|       lr|| Accuracy|   Recall|Precision|       F1|  ROC-AUC|     TP|     TN|     FP|     FN|\n",
      "\n",
      "|          50|     0.01||0.8514851|0.4345550|0.7545455|0.5514950|0.8439783|     83|    108|    691|     27|\n",
      "\n",
      "              precision    recall  f1-score   support\n",
      "\n",
      "           0       0.86      0.96      0.91       718\n",
      "           1       0.75      0.43      0.55       191\n",
      "\n",
      "    accuracy                           0.85       909\n",
      "   macro avg       0.81      0.70      0.73       909\n",
      "weighted avg       0.84      0.85      0.84       909\n",
      "\n",
      "\n",
      "|          50|     0.03||0.8525853|0.4293194|0.7663551|0.5503356|0.8481128|     82|    109|    693|     25|\n",
      "\n",
      "              precision    recall  f1-score   support\n",
      "\n",
      "           0       0.86      0.97      0.91       718\n",
      "           1       0.77      0.43      0.55       191\n",
      "\n",
      "    accuracy                           0.85       909\n",
      "   macro avg       0.82      0.70      0.73       909\n",
      "weighted avg       0.84      0.85      0.84       909\n",
      "\n",
      "\n",
      "|          50|     0.05||0.8536854|0.4450262|0.7589286|0.5610561|0.8543256|     85|    106|    691|     27|\n",
      "\n",
      "              precision    recall  f1-score   support\n",
      "\n",
      "           0       0.87      0.96      0.91       718\n",
      "           1       0.76      0.45      0.56       191\n",
      "\n",
      "    accuracy                           0.85       909\n",
      "   macro avg       0.81      0.70      0.74       909\n",
      "weighted avg       0.84      0.85      0.84       909\n",
      "\n",
      "\n",
      "|          50|     0.07||0.8525853|0.4450262|0.7522124|0.5592105|0.8615592|     85|    106|    690|     28|\n",
      "\n",
      "              precision    recall  f1-score   support\n",
      "\n",
      "           0       0.87      0.96      0.91       718\n",
      "           1       0.75      0.45      0.56       191\n",
      "\n",
      "    accuracy                           0.85       909\n",
      "   macro avg       0.81      0.70      0.74       909\n",
      "weighted avg       0.84      0.85      0.84       909\n",
      "\n",
      "\n",
      "\n",
      "|         100|     0.01||0.8503850|0.4293194|0.7522936|0.5466667|0.8490280|     82|    109|    691|     27|\n",
      "\n",
      "              precision    recall  f1-score   support\n",
      "\n",
      "           0       0.86      0.96      0.91       718\n",
      "           1       0.75      0.43      0.55       191\n",
      "\n",
      "    accuracy                           0.85       909\n",
      "   macro avg       0.81      0.70      0.73       909\n",
      "weighted avg       0.84      0.85      0.83       909\n",
      "\n",
      "\n",
      "|         100|     0.03||0.8525853|0.4397906|0.7567568|0.5562914|0.8590398|     84|    107|    691|     27|\n",
      "\n",
      "              precision    recall  f1-score   support\n",
      "\n",
      "           0       0.87      0.96      0.91       718\n",
      "           1       0.76      0.44      0.56       191\n",
      "\n",
      "    accuracy                           0.85       909\n",
      "   macro avg       0.81      0.70      0.73       909\n",
      "weighted avg       0.84      0.85      0.84       909\n",
      "\n",
      "\n",
      "|         100|     0.05||0.8514851|0.4502618|0.7413793|0.5602606|0.8641879|     86|    105|    688|     30|\n",
      "\n",
      "              precision    recall  f1-score   support\n",
      "\n",
      "           0       0.87      0.96      0.91       718\n",
      "           1       0.74      0.45      0.56       191\n",
      "\n",
      "    accuracy                           0.85       909\n",
      "   macro avg       0.80      0.70      0.74       909\n",
      "weighted avg       0.84      0.85      0.84       909\n",
      "\n",
      "\n",
      "|         100|     0.07||0.8569857|0.4659686|0.7606838|0.5779221|0.8676880|     89|    102|    690|     28|\n",
      "\n",
      "              precision    recall  f1-score   support\n",
      "\n",
      "           0       0.87      0.96      0.91       718\n",
      "           1       0.76      0.47      0.58       191\n",
      "\n",
      "    accuracy                           0.86       909\n",
      "   macro avg       0.82      0.71      0.75       909\n",
      "weighted avg       0.85      0.86      0.84       909\n",
      "\n",
      "\n",
      "\n",
      "|         150|     0.01||0.8503850|0.4293194|0.7522936|0.5466667|0.8524479|     82|    109|    691|     27|\n",
      "\n",
      "              precision    recall  f1-score   support\n",
      "\n",
      "           0       0.86      0.96      0.91       718\n",
      "           1       0.75      0.43      0.55       191\n",
      "\n",
      "    accuracy                           0.85       909\n",
      "   macro avg       0.81      0.70      0.73       909\n",
      "weighted avg       0.84      0.85      0.83       909\n",
      "\n",
      "\n",
      "|         150|     0.03||0.8547855|0.4502618|0.7610619|0.5657895|0.8631962|     86|    105|    691|     27|\n",
      "\n",
      "              precision    recall  f1-score   support\n",
      "\n",
      "           0       0.87      0.96      0.91       718\n",
      "           1       0.76      0.45      0.57       191\n",
      "\n",
      "    accuracy                           0.85       909\n",
      "   macro avg       0.81      0.71      0.74       909\n",
      "weighted avg       0.85      0.85      0.84       909\n",
      "\n",
      "\n",
      "|         150|     0.05||0.8525853|0.4712042|0.7317073|0.5732484|0.8655442|     90|    101|    685|     33|\n",
      "\n",
      "              precision    recall  f1-score   support\n",
      "\n",
      "           0       0.87      0.95      0.91       718\n",
      "           1       0.73      0.47      0.57       191\n",
      "\n",
      "    accuracy                           0.85       909\n",
      "   macro avg       0.80      0.71      0.74       909\n",
      "weighted avg       0.84      0.85      0.84       909\n",
      "\n",
      "\n",
      "|         150|     0.07||0.8624862|0.5130890|0.7538462|0.6105919|0.8698829|     98|     93|    686|     32|\n",
      "\n",
      "              precision    recall  f1-score   support\n",
      "\n",
      "           0       0.88      0.96      0.92       718\n",
      "           1       0.75      0.51      0.61       191\n",
      "\n",
      "    accuracy                           0.86       909\n",
      "   macro avg       0.82      0.73      0.76       909\n",
      "weighted avg       0.85      0.86      0.85       909\n",
      "\n",
      "\n",
      "\n",
      "|         200|     0.01||0.8547855|0.4345550|0.7757009|0.5570470|0.8617597|     83|    108|    694|     24|\n",
      "\n",
      "              precision    recall  f1-score   support\n",
      "\n",
      "           0       0.87      0.97      0.91       718\n",
      "           1       0.78      0.43      0.56       191\n",
      "\n",
      "    accuracy                           0.85       909\n",
      "   macro avg       0.82      0.70      0.74       909\n",
      "weighted avg       0.85      0.85      0.84       909\n",
      "\n",
      "\n",
      "|         200|     0.03||0.8690869|0.5026178|0.8000000|0.6173633|0.8689714|     96|     95|    694|     24|\n",
      "\n",
      "              precision    recall  f1-score   support\n",
      "\n",
      "           0       0.88      0.97      0.92       718\n",
      "           1       0.80      0.50      0.62       191\n",
      "\n",
      "    accuracy                           0.87       909\n",
      "   macro avg       0.84      0.73      0.77       909\n",
      "weighted avg       0.86      0.87      0.86       909\n",
      "\n",
      "\n",
      "|         200|     0.05||0.8679868|0.5340314|0.7669173|0.6296296|0.8679724|    102|     89|    687|     31|\n",
      "\n",
      "              precision    recall  f1-score   support\n",
      "\n",
      "           0       0.89      0.96      0.92       718\n",
      "           1       0.77      0.53      0.63       191\n",
      "\n",
      "    accuracy                           0.87       909\n",
      "   macro avg       0.83      0.75      0.77       909\n",
      "weighted avg       0.86      0.87      0.86       909\n",
      "\n",
      "\n",
      "|         200|     0.07||0.8657866|0.5183246|0.7674419|0.6187500|0.8641733|     99|     92|    688|     30|\n",
      "\n",
      "              precision    recall  f1-score   support\n",
      "\n",
      "           0       0.88      0.96      0.92       718\n",
      "           1       0.77      0.52      0.62       191\n",
      "\n",
      "    accuracy                           0.87       909\n",
      "   macro avg       0.82      0.74      0.77       909\n",
      "weighted avg       0.86      0.87      0.86       909\n",
      "\n",
      "\n",
      "\n",
      "|         250|     0.01||0.8569857|0.4345550|0.7904762|0.5608108|0.8642025|     83|    108|    696|     22|\n",
      "\n",
      "              precision    recall  f1-score   support\n",
      "\n",
      "           0       0.87      0.97      0.91       718\n",
      "           1       0.79      0.43      0.56       191\n",
      "\n",
      "    accuracy                           0.86       909\n",
      "   macro avg       0.83      0.70      0.74       909\n",
      "weighted avg       0.85      0.86      0.84       909\n",
      "\n",
      "\n",
      "|         250|     0.03||0.8657866|0.5026178|0.7804878|0.6114650|0.8692631|     96|     95|    691|     27|\n",
      "\n",
      "              precision    recall  f1-score   support\n",
      "\n",
      "           0       0.88      0.96      0.92       718\n",
      "           1       0.78      0.50      0.61       191\n",
      "\n",
      "    accuracy                           0.87       909\n",
      "   macro avg       0.83      0.73      0.77       909\n",
      "weighted avg       0.86      0.87      0.85       909\n",
      "\n",
      "\n",
      "|         250|     0.05||0.8679868|0.5340314|0.7669173|0.6296296|0.8673818|    102|     89|    687|     31|\n",
      "\n",
      "              precision    recall  f1-score   support\n",
      "\n",
      "           0       0.89      0.96      0.92       718\n",
      "           1       0.77      0.53      0.63       191\n",
      "\n",
      "    accuracy                           0.87       909\n",
      "   macro avg       0.83      0.75      0.77       909\n",
      "weighted avg       0.86      0.87      0.86       909\n",
      "\n",
      "\n",
      "|         250|     0.07||0.8624862|0.5183246|0.7500000|0.6130031|0.8608190|     99|     92|    685|     33|\n",
      "\n",
      "              precision    recall  f1-score   support\n",
      "\n",
      "           0       0.88      0.95      0.92       718\n",
      "           1       0.75      0.52      0.61       191\n",
      "\n",
      "    accuracy                           0.86       909\n",
      "   macro avg       0.82      0.74      0.76       909\n",
      "weighted avg       0.85      0.86      0.85       909\n",
      "\n",
      "\n",
      "\n",
      "|         300|     0.01||0.8580858|0.4397906|0.7924528|0.5656566|0.8660109|     84|    107|    696|     22|\n",
      "\n",
      "              precision    recall  f1-score   support\n",
      "\n",
      "           0       0.87      0.97      0.92       718\n",
      "           1       0.79      0.44      0.57       191\n",
      "\n",
      "    accuracy                           0.86       909\n",
      "   macro avg       0.83      0.70      0.74       909\n",
      "weighted avg       0.85      0.86      0.84       909\n",
      "\n",
      "\n",
      "|         300|     0.03||0.8668867|0.5183246|0.7734375|0.6206897|0.8693943|     99|     92|    689|     29|\n",
      "\n",
      "              precision    recall  f1-score   support\n",
      "\n",
      "           0       0.88      0.96      0.92       718\n",
      "           1       0.77      0.52      0.62       191\n",
      "\n",
      "    accuracy                           0.87       909\n",
      "   macro avg       0.83      0.74      0.77       909\n",
      "weighted avg       0.86      0.87      0.86       909\n",
      "\n",
      "\n",
      "|         300|     0.05||0.8668867|0.5340314|0.7611940|0.6276923|0.8659380|    102|     89|    686|     32|\n",
      "\n",
      "              precision    recall  f1-score   support\n",
      "\n",
      "           0       0.89      0.96      0.92       718\n",
      "           1       0.76      0.53      0.63       191\n",
      "\n",
      "    accuracy                           0.87       909\n",
      "   macro avg       0.82      0.74      0.77       909\n",
      "weighted avg       0.86      0.87      0.86       909\n",
      "\n",
      "\n",
      "|         300|     0.07||0.8613861|0.5235602|0.7407407|0.6134969|0.8584564|    100|     91|    683|     35|\n",
      "\n",
      "              precision    recall  f1-score   support\n",
      "\n",
      "           0       0.88      0.95      0.92       718\n",
      "           1       0.74      0.52      0.61       191\n",
      "\n",
      "    accuracy                           0.86       909\n",
      "   macro avg       0.81      0.74      0.76       909\n",
      "weighted avg       0.85      0.86      0.85       909\n",
      "\n",
      "\n",
      "\n",
      "|         350|     0.01||0.8602860|0.4502618|0.7962963|0.5752508|0.8674328|     86|    105|    696|     22|\n",
      "\n",
      "              precision    recall  f1-score   support\n",
      "\n",
      "           0       0.87      0.97      0.92       718\n",
      "           1       0.80      0.45      0.58       191\n",
      "\n",
      "    accuracy                           0.86       909\n",
      "   macro avg       0.83      0.71      0.75       909\n",
      "weighted avg       0.85      0.86      0.84       909\n",
      "\n",
      "\n",
      "|         350|     0.03||0.8646865|0.5130890|0.7656250|0.6144201|0.8691464|     98|     93|    688|     30|\n",
      "\n",
      "              precision    recall  f1-score   support\n",
      "\n",
      "           0       0.88      0.96      0.92       718\n",
      "           1       0.77      0.51      0.61       191\n",
      "\n",
      "    accuracy                           0.86       909\n",
      "   macro avg       0.82      0.74      0.77       909\n",
      "weighted avg       0.86      0.86      0.85       909\n",
      "\n",
      "\n",
      "|         350|     0.05||0.8646865|0.5340314|0.7500000|0.6238532|0.8632545|    102|     89|    684|     34|\n",
      "\n",
      "              precision    recall  f1-score   support\n",
      "\n",
      "           0       0.88      0.95      0.92       718\n",
      "           1       0.75      0.53      0.62       191\n",
      "\n",
      "    accuracy                           0.86       909\n",
      "   macro avg       0.82      0.74      0.77       909\n",
      "weighted avg       0.86      0.86      0.86       909\n",
      "\n",
      "\n",
      "|         350|     0.07||0.8613861|0.5235602|0.7407407|0.6134969|0.8593169|    100|     91|    683|     35|\n",
      "\n",
      "              precision    recall  f1-score   support\n",
      "\n",
      "           0       0.88      0.95      0.92       718\n",
      "           1       0.74      0.52      0.61       191\n",
      "\n",
      "    accuracy                           0.86       909\n",
      "   macro avg       0.81      0.74      0.76       909\n",
      "weighted avg       0.85      0.86      0.85       909\n",
      "\n",
      "\n",
      "\n",
      "|         400|     0.01||0.8613861|0.4554974|0.7981651|0.5800000|0.8679724|     87|    104|    696|     22|\n",
      "\n",
      "              precision    recall  f1-score   support\n",
      "\n",
      "           0       0.87      0.97      0.92       718\n",
      "           1       0.80      0.46      0.58       191\n",
      "\n",
      "    accuracy                           0.86       909\n",
      "   macro avg       0.83      0.71      0.75       909\n",
      "weighted avg       0.85      0.86      0.85       909\n",
      "\n",
      "\n",
      "|         400|     0.03||0.8690869|0.5287958|0.7769231|0.6292835|0.8686214|    101|     90|    689|     29|\n",
      "\n",
      "              precision    recall  f1-score   support\n",
      "\n",
      "           0       0.88      0.96      0.92       718\n",
      "           1       0.78      0.53      0.63       191\n",
      "\n",
      "    accuracy                           0.87       909\n",
      "   macro avg       0.83      0.74      0.77       909\n",
      "weighted avg       0.86      0.87      0.86       909\n",
      "\n",
      "\n",
      "|         400|     0.05||0.8635864|0.5287958|0.7481481|0.6196319|0.8611836|    101|     90|    684|     34|\n",
      "\n",
      "              precision    recall  f1-score   support\n",
      "\n",
      "           0       0.88      0.95      0.92       718\n",
      "           1       0.75      0.53      0.62       191\n",
      "\n",
      "    accuracy                           0.86       909\n",
      "   macro avg       0.82      0.74      0.77       909\n",
      "weighted avg       0.86      0.86      0.85       909\n",
      "\n",
      "\n",
      "|         400|     0.07||0.8569857|0.5235602|0.7194245|0.6060606|0.8571512|    100|     91|    679|     39|\n",
      "\n",
      "              precision    recall  f1-score   support\n",
      "\n",
      "           0       0.88      0.95      0.91       718\n",
      "           1       0.72      0.52      0.61       191\n",
      "\n",
      "    accuracy                           0.86       909\n",
      "   macro avg       0.80      0.73      0.76       909\n",
      "weighted avg       0.85      0.86      0.85       909\n",
      "\n",
      "\n",
      "\n",
      "|         450|     0.01||0.8635864|0.4607330|0.8073394|0.5866667|0.8690808|     88|    103|    697|     21|\n",
      "\n",
      "              precision    recall  f1-score   support\n",
      "\n",
      "           0       0.87      0.97      0.92       718\n",
      "           1       0.81      0.46      0.59       191\n",
      "\n",
      "    accuracy                           0.86       909\n",
      "   macro avg       0.84      0.72      0.75       909\n",
      "weighted avg       0.86      0.86      0.85       909\n",
      "\n",
      "\n",
      "|         450|     0.03||0.8668867|0.5235602|0.7692308|0.6230530|0.8676078|    100|     91|    688|     30|\n",
      "\n",
      "              precision    recall  f1-score   support\n",
      "\n",
      "           0       0.88      0.96      0.92       718\n",
      "           1       0.77      0.52      0.62       191\n",
      "\n",
      "    accuracy                           0.87       909\n",
      "   macro avg       0.83      0.74      0.77       909\n",
      "weighted avg       0.86      0.87      0.86       909\n",
      "\n",
      "\n",
      "|         450|     0.05||0.8668867|0.5340314|0.7611940|0.6276923|0.8601482|    102|     89|    686|     32|\n",
      "\n",
      "              precision    recall  f1-score   support\n",
      "\n",
      "           0       0.89      0.96      0.92       718\n",
      "           1       0.76      0.53      0.63       191\n",
      "\n",
      "    accuracy                           0.87       909\n",
      "   macro avg       0.82      0.74      0.77       909\n",
      "weighted avg       0.86      0.87      0.86       909\n",
      "\n",
      "\n",
      "|         450|     0.07||0.8569857|0.5235602|0.7194245|0.6060606|0.8581502|    100|     91|    679|     39|\n",
      "\n",
      "              precision    recall  f1-score   support\n",
      "\n",
      "           0       0.88      0.95      0.91       718\n",
      "           1       0.72      0.52      0.61       191\n",
      "\n",
      "    accuracy                           0.86       909\n",
      "   macro avg       0.80      0.73      0.76       909\n",
      "weighted avg       0.85      0.86      0.85       909\n",
      "\n",
      "\n",
      "\n"
     ]
    }
   ],
   "source": [
    "# модель CatBoostClassifier:\n",
    "\n",
    "best_results['catboost_model'] = {}\n",
    "\n",
    "\n",
    "def model_catboost_classifier(train_features, train_target, class_weight,\n",
    "                              train_type):\n",
    "    print('Catboost Class')\n",
    "    print('|{: >12}|{: >9}|'.format('iterations', 'lr'), end='')\n",
    "    print_full_scrore_info_title()\n",
    "    print()\n",
    "\n",
    "    # будем сразу считать лучшую меру и параметры, чтобы не искать глазами\n",
    "    best_f1 = 0\n",
    "    best_lr = 0\n",
    "    best_iterations = 0\n",
    "\n",
    "    for estim in range(50, 500, 50):\n",
    "        for lr in [0.01, 0.03, 0.05, 0.07]:\n",
    "            model = CatBoostClassifier(iterations=estim,\n",
    "                                       learning_rate=lr,  # n_jobs=-1,\n",
    "                                       # thread_count=100,# n_thread =-1,\n",
    "                                       # nthread=1,\n",
    "                                       verbose=False,\n",
    "                                       random_state=RANDOM_STATE,  # task_type=\"CPU\",\n",
    "                                       class_weights=class_weight)\n",
    "\n",
    "            model.fit(train_features, train_target)\n",
    "            predicted_valid = model.predict(validate_features)\n",
    "            predicted_proba = model.predict_proba(validate_features)\n",
    "            print('|{: >12}|{: >9}|'.format(estim, lr), end='')\n",
    "            print_full_score_info(\n",
    "                validate_target, predicted_valid, predicted_proba)\n",
    "\n",
    "            f1 = f1_score(validate_target, predicted_valid)\n",
    "            if (f1 > best_f1):\n",
    "                best_f1 = f1\n",
    "                best_lr = lr\n",
    "                best_iterations = estim\n",
    "\n",
    "        print()  # для разделения вывода по количеству деревьев\n",
    "\n",
    "    # воспользуемся тем, что питон будет искать наш словарь глобально\n",
    "\n",
    "    best_results['catboost_model'][train_type] = dict()\n",
    "    best_results['catboost_model'][train_type]['params'] = 'iterations=' + str(\n",
    "        best_iterations) + '; lr=' + str(best_lr)\n",
    "    best_results['catboost_model'][train_type]['f1'] = best_f1\n",
    "\n",
    "\n",
    "model_catboost_classifier(train_features, train_target, None, 'default')"
   ]
  },
  {
   "cell_type": "code",
   "execution_count": 37,
   "metadata": {
    "ExecuteTime": {
     "end_time": "2022-10-18T14:34:14.164931Z",
     "start_time": "2022-10-18T14:34:14.161550Z"
    }
   },
   "outputs": [
    {
     "data": {
      "text/plain": [
       "{'default': {'params': 'iterations=200; lr=0.05', 'f1': 0.6296296296296295}}"
      ]
     },
     "execution_count": 37,
     "metadata": {},
     "output_type": "execute_result"
    }
   ],
   "source": [
    "best_results[\"catboost_model\"]"
   ]
  },
  {
   "cell_type": "code",
   "execution_count": null,
   "metadata": {
    "ExecuteTime": {
     "start_time": "2022-10-18T14:33:49.330Z"
    }
   },
   "outputs": [],
   "source": [
    "from xgboost import XGBClassifier\n",
    "best_results['xgb'] = {}\n",
    "\n",
    "\n",
    "def model_xgb(train_features, train_target, class_weight,\n",
    "              train_type):\n",
    "    print('Catboost Class')\n",
    "    print('|{: >12}|{: >9}|'.format('iterations', 'lr'), end='')\n",
    "    print_full_scrore_info_title()\n",
    "    print()\n",
    "\n",
    "    # будем сразу считать лучшую меру и параметры, чтобы не искать глазами\n",
    "    best_f1 = 0\n",
    "    best_lr = 0\n",
    "    best_iterations = 0\n",
    "\n",
    "    for estim in range(7, 11, 1):\n",
    "        for lr in [0.005]:\n",
    "            model = XGBClassifier(nthread=-1)\n",
    "            XGBClassifier(base_score=0.5, booster='gbtree', colsample_bylevel=1,\n",
    "                          colsample_bynode=1, colsample_bytree=1, gamma=0, learning_rate=lr,\n",
    "                          max_delta_step=0, max_depth=estim, min_child_weight=1, missing=None,\n",
    "                          n_estimators=400, n_jobs=-1, nthread=50,\n",
    "                          objective='multi:softprob', random_state=0, reg_alpha=0,\n",
    "                          reg_lambda=1, scale_pos_weight=1, seed=None, silent=None,\n",
    "                          subsample=1, verbosity=1)\n",
    "\n",
    "            model.fit(train_features, train_target)\n",
    "            predicted_valid = model.predict(validate_features)\n",
    "            predicted_proba = model.predict_proba(validate_features)\n",
    "            print('|{: >12}|{: >9}|'.format(estim, lr), end='')\n",
    "            print_full_score_info(\n",
    "                validate_target, predicted_valid, predicted_proba)\n",
    "\n",
    "            f1 = f1_score(validate_target, predicted_valid)\n",
    "            if (f1 > best_f1):\n",
    "                best_f1 = f1\n",
    "                best_lr = lr\n",
    "                best_iterations = estim\n",
    "\n",
    "        print()  # для разделения вывода по количеству деревьев\n",
    "\n",
    "    # воспользуемся тем, что питон будет искать наш словарь глобально\n",
    "\n",
    "    best_results['catboost_model'][train_type] = dict()\n",
    "    best_results['catboost_model'][train_type]['params'] = 'iterations=' + str(\n",
    "        best_iterations) + '; lr=' + str(best_lr)\n",
    "    best_results['catboost_model'][train_type]['f1'] = best_f1\n",
    "\n",
    "\n",
    "model_xgb(train_features, train_target, None, 'default')"
   ]
  },
  {
   "cell_type": "markdown",
   "metadata": {},
   "source": [
    "Нам важна точноть выявления значений \"1\" класса, поэтому будем смотреть на Recall, F1 и ROC-AUC:  \n",
    "\n",
    "- хоть мы и добились f1 =0.6296, однако полнота выявления \"1\"  у нас чуть больше 53,4%, и хоть это самый лучший результат, но мало лучше случайности."
   ]
  },
  {
   "cell_type": "markdown",
   "metadata": {},
   "source": [
    "### Промежуточный вывод\n",
    "\n",
    "1. В текущем виде нам уже удалось достигнуть F1-меры выше 0,59 (хорошая EDA и граммотное разбиение данных для обучения, подбор хороших гиперпараметров).\n",
    "2. Все модели неплохо предсказывают негативные исходы (\"0\"), но ошибаются в почти половине или более случаев при предсказывании положительного исхода (\"1\").\n",
    "3. Лучший результат по F1 мере показал катбуст.\n",
    "4. В целом результат катбуст сопоставим с случайным лесом\n",
    "5. Худший результат показала регрессия, результат не был ни точным, ни полным.\n",
    "6. При этом метрика accuracy во всех случаях выглядит очень круто (порядка 80%)"
   ]
  },
  {
   "cell_type": "markdown",
   "metadata": {},
   "source": [
    "### 3. Обработка дисбаланса классов по таргету"
   ]
  },
  {
   "cell_type": "markdown",
   "metadata": {},
   "source": [
    "#### 3.1. метод взвешивания классов"
   ]
  },
  {
   "cell_type": "markdown",
   "metadata": {},
   "source": [
    "Для начала проверим чего мы сможем добиться путем простого балансирования классов\n",
    "через class_weights='balanced'  \n",
    "\n",
    "Как вариант можно в ручную подобрать значения class_weights (иногда очень хорошо отрабатывает)."
   ]
  },
  {
   "cell_type": "code",
   "execution_count": null,
   "metadata": {
    "ExecuteTime": {
     "start_time": "2022-10-18T14:33:51.477Z"
    }
   },
   "outputs": [],
   "source": [
    "# Начнем с дерева решений\n",
    "check_decision_tree(train_features, train_target, 'balanced', 'balanced')"
   ]
  },
  {
   "cell_type": "markdown",
   "metadata": {},
   "source": [
    "Выводы:\n",
    "- F1 метрику мы не улучшили, но зато существенно улучшили Recall по \"1\": до 77% (с  глубина=7)"
   ]
  },
  {
   "cell_type": "code",
   "execution_count": null,
   "metadata": {
    "ExecuteTime": {
     "start_time": "2022-10-18T14:33:52.014Z"
    }
   },
   "outputs": [],
   "source": [
    "# Смотрим случайный лес\n",
    "check_random_forest(train_features, train_target, 'balanced', 'balanced')"
   ]
  },
  {
   "cell_type": "markdown",
   "metadata": {
    "ExecuteTime": {
     "end_time": "2022-05-13T07:24:07.329961Z",
     "start_time": "2022-05-13T07:24:07.326763Z"
    }
   },
   "source": [
    "Выводы:\n",
    "- F1 метрику мы улучшили до 63.4%, но зато существенно улучшили Recall по \"1\": до 75% "
   ]
  },
  {
   "cell_type": "code",
   "execution_count": null,
   "metadata": {
    "ExecuteTime": {
     "start_time": "2022-10-18T14:33:52.496Z"
    },
    "scrolled": true
   },
   "outputs": [],
   "source": [
    "# Посмотрим, как дела с логистической регрессией\n",
    "check_logistic_regression(train_features, train_target, 'balanced', 'balanced')"
   ]
  },
  {
   "cell_type": "markdown",
   "metadata": {
    "ExecuteTime": {
     "end_time": "2022-05-13T07:24:56.701648Z",
     "start_time": "2022-05-13T07:24:56.697983Z"
    }
   },
   "source": [
    "Выводы:\n",
    "- F1 метрику мы улучшили до 50%,  а также существенно улучшили Recall по \"1\": до 69% "
   ]
  },
  {
   "cell_type": "code",
   "execution_count": null,
   "metadata": {
    "ExecuteTime": {
     "start_time": "2022-10-18T14:33:53.032Z"
    }
   },
   "outputs": [],
   "source": [
    "# не работает balanced в catboost!!!\n",
    "# поэтому на катбусте проверить не удалось \n",
    "#model_catboost_classifier(train_features, train_target, 'balanced', 'balanced')"
   ]
  },
  {
   "cell_type": "code",
   "execution_count": null,
   "metadata": {
    "ExecuteTime": {
     "start_time": "2022-10-18T14:33:53.295Z"
    }
   },
   "outputs": [],
   "source": [
    "pd.DataFrame(best_results)"
   ]
  },
  {
   "cell_type": "code",
   "execution_count": null,
   "metadata": {
    "ExecuteTime": {
     "start_time": "2022-10-18T14:33:53.545Z"
    }
   },
   "outputs": [],
   "source": [
    "best_results"
   ]
  },
  {
   "cell_type": "markdown",
   "metadata": {},
   "source": [
    "### Промежуточный вывод по взвешиванию классов\n",
    "\n",
    "    1. Имеем хорошую точность, но посредственную полноту (за редким исключением)\n",
    "    2. Также добились нужного значения F1 меры, при чем, как в дереве решений, так и в случайном лесе. Лес победил\n",
    "    2. Что интересно, увеличение глубины деревьев повышает точность, но снижает полноту\n",
    "    3. В целом сравнительный результат моделей с взвешиванием и без него неизменился - логистическая регрессия также на последнем месте, дерево решений показывает относительно неплохой, но недостаточный результат."
   ]
  },
  {
   "cell_type": "markdown",
   "metadata": {
    "ExecuteTime": {
     "end_time": "2022-05-12T14:49:15.020390Z",
     "start_time": "2022-05-12T14:49:15.018247Z"
    }
   },
   "source": [
    "#### 3.2. Удаляем дисбаланс: способ Upsampling"
   ]
  },
  {
   "cell_type": "code",
   "execution_count": null,
   "metadata": {
    "ExecuteTime": {
     "start_time": "2022-10-18T14:33:54.362Z"
    },
    "scrolled": true
   },
   "outputs": [],
   "source": [
    "# теперь попробуем upsampling как способ борьбы с дисбалансом\n",
    "\n",
    "# поскольку модели лучше учатся при соотношении 50 на 50, для начала вычислим коэффицент\n",
    "# насколько больше у нас отрицательных значений\n",
    "\n",
    "coef = target[target == 1].count() / target[target == 0].count()\n",
    "coef"
   ]
  },
  {
   "cell_type": "code",
   "execution_count": null,
   "metadata": {
    "ExecuteTime": {
     "start_time": "2022-10-18T14:33:54.729Z"
    }
   },
   "outputs": [],
   "source": [
    "# напишем функцию, которая будет увеличивать нашу выборку с учетом коэффицента\n",
    "\n",
    "def upsample(features, target, coef):\n",
    "    if (coef > 1):\n",
    "        print(\"Положительных значений больше отрицательных\")\n",
    "        print(coef)\n",
    "        return\n",
    "\n",
    "    features_zeros = features[target == 0]\n",
    "    features_ones = features[target == 1]\n",
    "    target_zeros = target[target == 0]\n",
    "    target_ones = target[target == 1]\n",
    "\n",
    "    repeat = round(1 / coef)\n",
    "    features_upsampled = pd.concat([features_zeros] + [features_ones] * repeat)\n",
    "    target_upsampled = pd.concat([target_zeros] + [target_ones] * repeat)\n",
    "    features_upsampled, target_upsampled = shuffle(\n",
    "        features_upsampled, target_upsampled, random_state=RANDOM_STATE)\n",
    "\n",
    "    return features_upsampled, target_upsampled\n",
    "\n",
    "\n",
    "features_upsampled, target_upsampled = upsample(\n",
    "    train_features, train_target, coef)"
   ]
  },
  {
   "cell_type": "code",
   "execution_count": null,
   "metadata": {
    "ExecuteTime": {
     "start_time": "2022-10-18T14:33:55.011Z"
    }
   },
   "outputs": [],
   "source": [
    "# Посмотрим как выборки поменялись\n",
    "target_upsampled.value_counts()"
   ]
  },
  {
   "cell_type": "code",
   "execution_count": null,
   "metadata": {
    "ExecuteTime": {
     "start_time": "2022-10-18T14:33:55.644Z"
    }
   },
   "outputs": [],
   "source": [
    "# Применим к модели дерево решений:\n",
    "check_decision_tree(features_upsampled, target_upsampled, None, 'upsample')"
   ]
  },
  {
   "cell_type": "markdown",
   "metadata": {},
   "source": [
    "Удивительно, но мы получили почти те же результаты, что и при использовании `class_weight='balanced'`"
   ]
  },
  {
   "cell_type": "code",
   "execution_count": null,
   "metadata": {
    "ExecuteTime": {
     "start_time": "2022-10-18T14:33:56.243Z"
    }
   },
   "outputs": [],
   "source": [
    "# Upsampling + случайный лес\n",
    "check_random_forest(features_upsampled, target_upsampled, None, 'upsample')"
   ]
  },
  {
   "cell_type": "markdown",
   "metadata": {},
   "source": [
    "Для случайного леса результат удалось неплохо улучшить: recall до 77%"
   ]
  },
  {
   "cell_type": "code",
   "execution_count": null,
   "metadata": {
    "ExecuteTime": {
     "start_time": "2022-10-18T14:33:56.796Z"
    }
   },
   "outputs": [],
   "source": [
    "# Проверим логистическую регрессию + upsampling\n",
    "check_logistic_regression(features_upsampled, target_upsampled, None, 'upsample')"
   ]
  },
  {
   "cell_type": "markdown",
   "metadata": {},
   "source": [
    " Тут очень похожая ситуация - результат получился немногим лучше использования `class_weight='balanced'`  \n",
    " \n",
    " улучшили Recall по \"1\": до 70% "
   ]
  },
  {
   "cell_type": "code",
   "execution_count": null,
   "metadata": {
    "ExecuteTime": {
     "start_time": "2022-10-18T14:33:57.329Z"
    }
   },
   "outputs": [],
   "source": [
    "model_catboost_classifier(features_upsampled, target_upsampled, None, 'upsample')"
   ]
  },
  {
   "cell_type": "code",
   "execution_count": null,
   "metadata": {
    "ExecuteTime": {
     "start_time": "2022-10-18T14:33:57.564Z"
    }
   },
   "outputs": [],
   "source": [
    "best_results"
   ]
  },
  {
   "cell_type": "markdown",
   "metadata": {},
   "source": [
    "Catboost -  результаты по f1 ухудшились."
   ]
  },
  {
   "cell_type": "markdown",
   "metadata": {},
   "source": [
    "#### Промежуточный вывод\n",
    "\n",
    "Применение апсемплинга не сказалось существенно на результате работы Дерева решений и логистической регресии.  \n",
    "\n",
    "А вот для случайного леса эффект можно считать ощутимым - на этот раз снизилась точность, но мы имеем весьма неплохое значение полноты.  \n",
    "\n",
    "При чем, если исходить из задачи - полнота для нас является более важным признаком."
   ]
  },
  {
   "cell_type": "markdown",
   "metadata": {},
   "source": [
    "#### 3.3 Удаляем дисбаланс: способ  Downsampling"
   ]
  },
  {
   "cell_type": "code",
   "execution_count": null,
   "metadata": {
    "ExecuteTime": {
     "start_time": "2022-10-18T14:33:58.712Z"
    }
   },
   "outputs": [],
   "source": [
    "# Попробуем downsampling - уменьшение кол-ва образцов доминирующего класса:\n",
    "\n",
    "def downsample(features, target, coef):\n",
    "    fraction = coef\n",
    "\n",
    "    features_zeros = features[target == 0]\n",
    "    features_ones = features[target == 1]\n",
    "    target_zeros = target[target == 0]\n",
    "    target_ones = target[target == 1]\n",
    "\n",
    "    features_downsampled = pd.concat(\n",
    "        [features_zeros.sample(frac=fraction, random_state=RANDOM_STATE)] + [features_ones])\n",
    "    target_downsampled = pd.concat(\n",
    "        [target_zeros.sample(frac=fraction, random_state=RANDOM_STATE)] + [target_ones])\n",
    "\n",
    "    features_downsampled, target_downsampled = shuffle(\n",
    "        features_downsampled, target_downsampled, random_state=RANDOM_STATE)\n",
    "\n",
    "    return features_downsampled, target_downsampled\n",
    "\n",
    "\n",
    "features_downsampled, target_downsampled = downsample(\n",
    "    train_features, train_target, coef)\n",
    "\n",
    "# проверим, что на выходе:\n",
    "target_downsampled.value_counts()"
   ]
  },
  {
   "cell_type": "code",
   "execution_count": null,
   "metadata": {
    "ExecuteTime": {
     "start_time": "2022-10-18T14:33:59.011Z"
    }
   },
   "outputs": [],
   "source": [
    "# Применим к модели решающее дерево:\n",
    "check_decision_tree(features_downsampled, target_downsampled, None, 'downsample')"
   ]
  },
  {
   "cell_type": "code",
   "execution_count": null,
   "metadata": {
    "ExecuteTime": {
     "start_time": "2022-10-18T14:33:59.328Z"
    }
   },
   "outputs": [],
   "source": [
    "# Проверим модель случайный лес:\n",
    "check_random_forest(features_downsampled, target_downsampled, None, 'downsample')"
   ]
  },
  {
   "cell_type": "code",
   "execution_count": null,
   "metadata": {
    "ExecuteTime": {
     "start_time": "2022-10-18T14:33:59.609Z"
    }
   },
   "outputs": [],
   "source": [
    "# Проверим логистическую регрессию\n",
    "check_logistic_regression(features_downsampled, target_downsampled, None,\n",
    "                          'downsample')"
   ]
  },
  {
   "cell_type": "code",
   "execution_count": null,
   "metadata": {
    "ExecuteTime": {
     "start_time": "2022-10-18T14:33:59.929Z"
    }
   },
   "outputs": [],
   "source": [
    "model_catboost_classifier(features_downsampled, target_downsampled, None, 'downsample')"
   ]
  },
  {
   "cell_type": "code",
   "execution_count": null,
   "metadata": {
    "ExecuteTime": {
     "start_time": "2022-10-18T14:34:00.176Z"
    }
   },
   "outputs": [],
   "source": [
    "best_results"
   ]
  },
  {
   "cell_type": "markdown",
   "metadata": {},
   "source": [
    "У Catboost downsample еще больше ухудшил результат по  f1, отчего напрашивается вывод, что катбус умеет работать с дисбалансом  классов и самостоятельно выравнивать классы."
   ]
  },
  {
   "cell_type": "markdown",
   "metadata": {},
   "source": [
    "- Логистическая регрессия по прежнему показывает худший результат"
   ]
  },
  {
   "cell_type": "markdown",
   "metadata": {},
   "source": [
    "Для случайного леса upsampling оказался гораздо лучше, хотя в рамках самой группы (среди всех моделей где применялся downsample), случайный лес по прежнему лидирует"
   ]
  },
  {
   "cell_type": "markdown",
   "metadata": {},
   "source": [
    "### Промежуточный вывод\n",
    "\n",
    "- Можно было бы много написать, но результат однозначен. Результаты downsampling'а и upsampling'a вполне сопоставимы, но upsampling показал лучшие результаты.\n",
    "- Хотя именно для дерева решений downsample оказал лучшее влияние"
   ]
  },
  {
   "cell_type": "code",
   "execution_count": null,
   "metadata": {
    "ExecuteTime": {
     "start_time": "2022-10-18T14:34:02.076Z"
    }
   },
   "outputs": [],
   "source": [
    "# подведем итоги по полученным результатам\n",
    "\n",
    "print('|{: >20}|{: >15}|{: >25}|{: >10}|'.format('Model name', 'Train type',\n",
    "                                                 'Params', 'F1'))\n",
    "for model_name in best_results:\n",
    "    print()\n",
    "    for train_type in best_results[model_name]:\n",
    "        print('|{: >20}|{: >15}|{: >25}|{: >10.5f}|'.format(\n",
    "            model_name, train_type,\n",
    "            best_results[model_name][train_type]['params'],\n",
    "            best_results[model_name][train_type]['f1']))"
   ]
  },
  {
   "cell_type": "markdown",
   "metadata": {},
   "source": [
    "### Вывод\n",
    "\n",
    "Мы попробовали разные подходы для решения проблемы дисбаланса и получили весьма любопытные результаты\n",
    "\n",
    "1. Лучший результат среди всех моделей во всех случаях показывает случайный лес\n",
    "2. Лучше всего на случайный лес влияют upsample и взвешивание классов\n",
    "3. На логистическую регрессию также оказал наибольшее влияние именно комбинированный подход\n",
    "4. Сама по себе логистическая регрессия по всех тестах показала худший результат\n",
    "5. А вот дерево решений показало завидное постоянство - при плюс-минус одинаковой глубине результат всегда был примерно одинаковым для всех ситуаций.\n",
    "6. Катбуст везде отработал с одинаковым результат (стабильно хорошим)\n",
    "Лучшей моделью в нашем случае оказался случайный лес с взвешиванием классов, его и будем тестировать"
   ]
  },
  {
   "cell_type": "markdown",
   "metadata": {},
   "source": [
    "### 4. Тестирование модели"
   ]
  },
  {
   "cell_type": "code",
   "execution_count": null,
   "metadata": {
    "ExecuteTime": {
     "start_time": "2022-10-18T14:34:02.897Z"
    }
   },
   "outputs": [],
   "source": [
    "model = RandomForestClassifier(\n",
    "    n_estimators=15, max_depth=9, random_state=RANDOM_STATE, class_weight='balanced')\n",
    "model.fit(train_features, train_target)\n",
    "test_predicted = model.predict(test_features)\n",
    "predicted_proba = model.predict_proba(test_features)\n",
    "print_full_scrore_info_title()\n",
    "print_full_score_info(test_target, test_predicted, predicted_proba)"
   ]
  },
  {
   "cell_type": "code",
   "execution_count": null,
   "metadata": {
    "ExecuteTime": {
     "start_time": "2022-10-18T14:34:03.163Z"
    }
   },
   "outputs": [],
   "source": [
    "# построим confusion_matrix для оценки результатов:\n",
    "plt.subplots(figsize=(6, 6))\n",
    "sns.heatmap(confusion_matrix(test_target, test_predicted),\n",
    "            annot=True,\n",
    "            fmt=\"1.0f\",\n",
    "            cbar=False,\n",
    "            annot_kws={\"size\": 20})\n",
    "plt.title(\"Confusion matrix\", fontsize=30)\n",
    "plt.show()"
   ]
  },
  {
   "cell_type": "code",
   "execution_count": null,
   "metadata": {
    "ExecuteTime": {
     "start_time": "2022-10-18T14:34:03.429Z"
    },
    "scrolled": true
   },
   "outputs": [],
   "source": [
    "# Хоть мы и добились неплохой полноты при хорошей точности, попробуем немного подкрутить полноту\n",
    "proba_test = model.predict_proba(test_features)\n",
    "proba_one_test = proba_test[:, 1]\n",
    "\n",
    "for threshold in np.arange(0.1, 0.95, 0.05):\n",
    "    predicted_test = proba_one_test > threshold\n",
    "    precision = precision_score(test_target, predicted_test)\n",
    "    recall = recall_score(test_target, predicted_test)\n",
    "\n",
    "    print(\n",
    "        str(round(threshold, 2)) + ' - ' +\n",
    "        str(f1_score(test_target, predicted_test)) + ' - ' +\n",
    "        str(recall_score(test_target, predicted_test)))"
   ]
  },
  {
   "cell_type": "code",
   "execution_count": null,
   "metadata": {
    "ExecuteTime": {
     "start_time": "2022-10-18T14:34:03.695Z"
    }
   },
   "outputs": [],
   "source": [
    "# Посмотрим на параметры при пороге классификации 0.44:\n",
    "# нам удалось найти неплохой баланс между показаниями метрики Recall, f1 и ROC-AUC.\n",
    "test_predicted_proba = proba_one_test > 0.44\n",
    "print_full_scrore_info_title()\n",
    "print_full_score_info(test_target, test_predicted_proba, predicted_proba)"
   ]
  },
  {
   "cell_type": "code",
   "execution_count": null,
   "metadata": {
    "ExecuteTime": {
     "start_time": "2022-10-18T14:34:03.963Z"
    }
   },
   "outputs": [],
   "source": [
    "# Посмотрим на ROC кривую\n",
    "probabilities_valid = model.predict_proba(test_features)\n",
    "probabilities_one_valid = probabilities_valid[:, 1]\n",
    "lr_auc = roc_auc_score(test_target, probabilities_valid[:, 1])\n",
    "print('ROC AUC=%.3f' % (lr_auc))\n",
    "fpr, tpr, thresholds = roc_curve(test_target, probabilities_one_valid)\n",
    "plt.figure()\n",
    "plt.plot(fpr, tpr)\n",
    "plt.plot([0, 1], [0, 1], linestyle='--')\n",
    "plt.xlim([0.0, 1.0])\n",
    "plt.ylim([0.0, 1.0])\n",
    "plt.xlabel('False Positive Rate')\n",
    "plt.ylabel('True Positive Rate')\n",
    "plt.title('ROC-кривая')\n",
    "plt.show()"
   ]
  },
  {
   "cell_type": "markdown",
   "metadata": {
    "pycharm": {
     "name": "#%% md\n"
    }
   },
   "source": [
    "### Общий вывод\n",
    "\n",
    "1. Мы исследовали наши данные, отбросили лишние признаки и удалили пропуски\n",
    "2. Также были обработаны категориальные признаки и масштабированы числовые признаки\n",
    "3. Мы исследовали различные модели на имеющемся наборе и столкнулись с проблемой дисбаланса, которая не позволила нам добиться необходимой полноты и точности\n",
    "4. Для решения проблемы мы попробовали\n",
    "        - Выровнять вес классов\n",
    "        - Добавить данных положительного класса\n",
    "        - Убрать данные отрицательного класса\n",
    "5. На основании нашего исследования мы выбрали и обучили лучшую модель. Это оказался случайный лес с количеством деревьев 15 и глубиной 9 при сбалансированном взвешивании классов.\n",
    "6. Нам удалось достичь необходимой F1-меры, она составила - 0.595 (на тестовой выборке) и 85% по ROC AUC.\n",
    "7. Однако, дополнительно исследовав модель и изменив порог классификации, нам удалось добиться еще более впечатляющих результатов за счет увеличения полноты ценой снижения точности и увеличить показания ROC-AUC метрики (которая в данном случае наиболее полно отражает ценность и успешность нашей модели).\n",
    "    \n",
    "Однако, мы помним, что нашей изначальной целью было именно своевременное прогнозирование оттока клиента и для данной задачи важна именно полнота (Recall 78% на тестовой выборке), чтобы банк имел возможность предотвратить уход клиента, чтобы сэкономить деньги.\n",
    "    \n",
    "В итоге, наша модель полностью отвечает как формальным, так и бизнес-требованиям.\n",
    "\n"
   ]
  }
 ],
 "metadata": {
  "ExecuteTimeLog": [
   {
    "duration": 2341,
    "start_time": "2022-05-15T06:58:34.551Z"
   },
   {
    "duration": 254,
    "start_time": "2022-05-15T06:58:36.894Z"
   },
   {
    "duration": 7,
    "start_time": "2022-05-15T06:58:49.731Z"
   },
   {
    "duration": 62,
    "start_time": "2022-05-15T06:58:50.339Z"
   },
   {
    "duration": 27,
    "start_time": "2022-05-15T06:58:54.382Z"
   },
   {
    "duration": 6,
    "start_time": "2022-05-15T06:59:25.315Z"
   },
   {
    "duration": 7,
    "start_time": "2022-05-15T06:59:39.231Z"
   },
   {
    "duration": 4,
    "start_time": "2022-05-15T06:59:40.537Z"
   },
   {
    "duration": 6,
    "start_time": "2022-05-15T06:59:41.224Z"
   },
   {
    "duration": 6,
    "start_time": "2022-05-15T06:59:43.159Z"
   },
   {
    "duration": 17,
    "start_time": "2022-05-15T06:59:50.318Z"
   },
   {
    "duration": 6,
    "start_time": "2022-05-15T07:00:54.547Z"
   },
   {
    "duration": 8,
    "start_time": "2022-05-15T07:01:22.094Z"
   },
   {
    "duration": 8,
    "start_time": "2022-05-15T07:01:30.317Z"
   },
   {
    "duration": 38,
    "start_time": "2022-05-15T07:01:33.314Z"
   },
   {
    "duration": 12,
    "start_time": "2022-05-15T07:01:36.584Z"
   },
   {
    "duration": 7,
    "start_time": "2022-05-15T07:01:56.799Z"
   },
   {
    "duration": 9,
    "start_time": "2022-05-15T07:01:57.307Z"
   },
   {
    "duration": 9,
    "start_time": "2022-05-15T07:03:07.525Z"
   },
   {
    "duration": 5,
    "start_time": "2022-05-15T07:03:08.406Z"
   },
   {
    "duration": 5,
    "start_time": "2022-05-15T07:10:26.000Z"
   },
   {
    "duration": 10,
    "start_time": "2022-05-15T07:10:37.359Z"
   },
   {
    "duration": 12,
    "start_time": "2022-05-15T07:10:38.210Z"
   },
   {
    "duration": 6,
    "start_time": "2022-05-15T07:10:58.552Z"
   },
   {
    "duration": 4,
    "start_time": "2022-05-15T07:11:00.317Z"
   },
   {
    "duration": 58,
    "start_time": "2022-05-15T07:11:01.283Z"
   },
   {
    "duration": 52,
    "start_time": "2022-05-15T07:12:06.004Z"
   },
   {
    "duration": 164,
    "start_time": "2022-05-15T07:12:58.093Z"
   },
   {
    "duration": 149,
    "start_time": "2022-05-15T07:13:11.868Z"
   },
   {
    "duration": 7,
    "start_time": "2022-05-15T07:13:15.795Z"
   },
   {
    "duration": 60,
    "start_time": "2022-05-15T07:13:15.805Z"
   },
   {
    "duration": 30,
    "start_time": "2022-05-15T07:13:15.867Z"
   },
   {
    "duration": 7,
    "start_time": "2022-05-15T07:13:15.900Z"
   },
   {
    "duration": 10,
    "start_time": "2022-05-15T07:13:15.911Z"
   },
   {
    "duration": 6,
    "start_time": "2022-05-15T07:13:15.924Z"
   },
   {
    "duration": 8,
    "start_time": "2022-05-15T07:13:15.932Z"
   },
   {
    "duration": 8,
    "start_time": "2022-05-15T07:13:15.942Z"
   },
   {
    "duration": 48,
    "start_time": "2022-05-15T07:13:15.952Z"
   },
   {
    "duration": 4,
    "start_time": "2022-05-15T07:13:16.002Z"
   },
   {
    "duration": 15,
    "start_time": "2022-05-15T07:13:16.009Z"
   },
   {
    "duration": 10,
    "start_time": "2022-05-15T07:13:16.026Z"
   },
   {
    "duration": 59,
    "start_time": "2022-05-15T07:13:16.039Z"
   },
   {
    "duration": 12,
    "start_time": "2022-05-15T07:13:16.102Z"
   },
   {
    "duration": 6,
    "start_time": "2022-05-15T07:13:16.116Z"
   },
   {
    "duration": 8,
    "start_time": "2022-05-15T07:13:16.124Z"
   },
   {
    "duration": 10,
    "start_time": "2022-05-15T07:13:16.134Z"
   },
   {
    "duration": 11,
    "start_time": "2022-05-15T07:13:16.146Z"
   },
   {
    "duration": 42,
    "start_time": "2022-05-15T07:13:16.159Z"
   },
   {
    "duration": 14,
    "start_time": "2022-05-15T07:13:16.203Z"
   },
   {
    "duration": 0,
    "start_time": "2022-05-15T07:13:16.219Z"
   },
   {
    "duration": 0,
    "start_time": "2022-05-15T07:13:16.222Z"
   },
   {
    "duration": 0,
    "start_time": "2022-05-15T07:13:16.223Z"
   },
   {
    "duration": 0,
    "start_time": "2022-05-15T07:13:16.224Z"
   },
   {
    "duration": 7,
    "start_time": "2022-05-15T07:13:27.328Z"
   },
   {
    "duration": 56,
    "start_time": "2022-05-15T07:13:27.338Z"
   },
   {
    "duration": 18,
    "start_time": "2022-05-15T07:13:27.396Z"
   },
   {
    "duration": 15,
    "start_time": "2022-05-15T07:13:27.416Z"
   },
   {
    "duration": 11,
    "start_time": "2022-05-15T07:13:27.434Z"
   },
   {
    "duration": 8,
    "start_time": "2022-05-15T07:13:27.447Z"
   },
   {
    "duration": 16,
    "start_time": "2022-05-15T07:13:27.457Z"
   },
   {
    "duration": 19,
    "start_time": "2022-05-15T07:13:27.475Z"
   },
   {
    "duration": 18,
    "start_time": "2022-05-15T07:13:27.496Z"
   },
   {
    "duration": 16,
    "start_time": "2022-05-15T07:13:27.516Z"
   },
   {
    "duration": 15,
    "start_time": "2022-05-15T07:13:27.535Z"
   },
   {
    "duration": 12,
    "start_time": "2022-05-15T07:13:27.552Z"
   },
   {
    "duration": 44,
    "start_time": "2022-05-15T07:13:27.567Z"
   },
   {
    "duration": 11,
    "start_time": "2022-05-15T07:13:27.615Z"
   },
   {
    "duration": 7,
    "start_time": "2022-05-15T07:13:27.628Z"
   },
   {
    "duration": 8,
    "start_time": "2022-05-15T07:13:27.638Z"
   },
   {
    "duration": 45,
    "start_time": "2022-05-15T07:13:27.648Z"
   },
   {
    "duration": 5,
    "start_time": "2022-05-15T07:13:27.695Z"
   },
   {
    "duration": 19,
    "start_time": "2022-05-15T07:13:27.702Z"
   },
   {
    "duration": 8,
    "start_time": "2022-05-15T07:13:27.723Z"
   },
   {
    "duration": 15,
    "start_time": "2022-05-15T07:13:27.734Z"
   },
   {
    "duration": 4,
    "start_time": "2022-05-15T07:13:27.751Z"
   },
   {
    "duration": 73,
    "start_time": "2022-05-15T07:13:27.757Z"
   },
   {
    "duration": 152,
    "start_time": "2022-05-15T07:13:27.832Z"
   },
   {
    "duration": 8,
    "start_time": "2022-05-15T07:14:13.123Z"
   },
   {
    "duration": 8,
    "start_time": "2022-05-15T07:15:24.730Z"
   },
   {
    "duration": 9,
    "start_time": "2022-05-15T07:15:27.876Z"
   },
   {
    "duration": 615,
    "start_time": "2022-05-15T07:15:29.632Z"
   },
   {
    "duration": 11891,
    "start_time": "2022-05-15T07:19:38.178Z"
   },
   {
    "duration": 6,
    "start_time": "2022-05-15T07:19:50.072Z"
   },
   {
    "duration": 216,
    "start_time": "2022-05-15T07:20:12.778Z"
   },
   {
    "duration": 82197,
    "start_time": "2022-05-15T07:20:25.849Z"
   },
   {
    "duration": 631,
    "start_time": "2022-05-15T07:21:48.049Z"
   }
  ],
  "kernelspec": {
   "display_name": "Python 3 (ipykernel)",
   "language": "python",
   "name": "python3"
  },
  "language_info": {
   "codemirror_mode": {
    "name": "ipython",
    "version": 3
   },
   "file_extension": ".py",
   "mimetype": "text/x-python",
   "name": "python",
   "nbconvert_exporter": "python",
   "pygments_lexer": "ipython3",
   "version": "3.8.13"
  },
  "toc": {
   "base_numbering": 1,
   "nav_menu": {},
   "number_sections": true,
   "sideBar": true,
   "skip_h1_title": true,
   "title_cell": "Table of Contents",
   "title_sidebar": "Contents",
   "toc_cell": false,
   "toc_position": {},
   "toc_section_display": true,
   "toc_window_display": true
  }
 },
 "nbformat": 4,
 "nbformat_minor": 2
}
